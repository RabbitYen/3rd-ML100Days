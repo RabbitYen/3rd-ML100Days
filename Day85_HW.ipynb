{
 "cells": [
  {
   "cell_type": "markdown",
   "metadata": {},
   "source": [
    "## Work\n",
    "1. 試改變 monitor \"Validation Accuracy\" 並比較結果\n",
    "2. 調整 earlystop 的等待次數至 10, 25 並比較結果"
   ]
  },
  {
   "cell_type": "code",
   "execution_count": 1,
   "metadata": {},
   "outputs": [
    {
     "name": "stderr",
     "output_type": "stream",
     "text": [
      "Using TensorFlow backend.\n"
     ]
    }
   ],
   "source": [
    "import os\n",
    "import keras\n",
    "import matplotlib.pyplot as plt\n",
    "%matplotlib inline\n",
    "\n",
    "\n",
    "# Disable GPU\n",
    "os.environ[\"CUDA_VISIBLE_DEVICES\"] = \"\""
   ]
  },
  {
   "cell_type": "code",
   "execution_count": 2,
   "metadata": {},
   "outputs": [],
   "source": [
    "train, test = keras.datasets.cifar10.load_data()"
   ]
  },
  {
   "cell_type": "code",
   "execution_count": 3,
   "metadata": {},
   "outputs": [],
   "source": [
    "## 資料前處理\n",
    "def preproc_x(x, flatten=True):\n",
    "    x = x / 255.\n",
    "    if flatten:\n",
    "        x = x.reshape((len(x), -1))\n",
    "    return x\n",
    "\n",
    "def preproc_y(y, num_classes=10):\n",
    "    if y.shape[-1] == 1:\n",
    "        y = keras.utils.to_categorical(y, num_classes)\n",
    "    return y    "
   ]
  },
  {
   "cell_type": "code",
   "execution_count": 4,
   "metadata": {},
   "outputs": [],
   "source": [
    "x_train, y_train = train\n",
    "x_test, y_test = test\n",
    "\n",
    "# Preproc the inputs\n",
    "x_train = preproc_x(x_train)\n",
    "x_test = preproc_x(x_test)\n",
    "\n",
    "# Preprc the outputs\n",
    "y_train = preproc_y(y_train)\n",
    "y_test = preproc_y(y_test)"
   ]
  },
  {
   "cell_type": "code",
   "execution_count": 5,
   "metadata": {},
   "outputs": [],
   "source": [
    "from keras.layers import BatchNormalization\n",
    "\n",
    "def build_mlp(input_shape, output_units=10, num_neurons=[512, 256, 128]):\n",
    "    input_layer = keras.layers.Input(input_shape)\n",
    "    \n",
    "    for i, n_units in enumerate(num_neurons):\n",
    "        if i == 0:\n",
    "            x = keras.layers.Dense(units=n_units, \n",
    "                                   activation=\"relu\", \n",
    "                                   name=\"hidden_layer\"+str(i+1))(input_layer)\n",
    "            x = BatchNormalization()(x)\n",
    "        else:\n",
    "            x = keras.layers.Dense(units=n_units, \n",
    "                                   activation=\"relu\", \n",
    "                                   name=\"hidden_layer\"+str(i+1))(x)\n",
    "            x = BatchNormalization()(x)\n",
    "    \n",
    "    out = keras.layers.Dense(units=output_units, activation=\"softmax\", name=\"output\")(x)\n",
    "    \n",
    "    model = keras.models.Model(inputs=[input_layer], outputs=[out])\n",
    "    return model"
   ]
  },
  {
   "cell_type": "code",
   "execution_count": 6,
   "metadata": {},
   "outputs": [],
   "source": [
    "## 超參數設定\n",
    "LEARNING_RATE = 1e-3\n",
    "EPOCHS = 50\n",
    "BATCH_SIZE = 1024\n",
    "MOMENTUM = 0.95\n",
    "PATIENCE = [10,25]"
   ]
  },
  {
   "cell_type": "code",
   "execution_count": 10,
   "metadata": {},
   "outputs": [
    {
     "name": "stdout",
     "output_type": "stream",
     "text": [
      "Model: \"model_3\"\n",
      "_________________________________________________________________\n",
      "Layer (type)                 Output Shape              Param #   \n",
      "=================================================================\n",
      "input_3 (InputLayer)         (None, 3072)              0         \n",
      "_________________________________________________________________\n",
      "hidden_layer1 (Dense)        (None, 512)               1573376   \n",
      "_________________________________________________________________\n",
      "batch_normalization_7 (Batch (None, 512)               2048      \n",
      "_________________________________________________________________\n",
      "hidden_layer2 (Dense)        (None, 256)               131328    \n",
      "_________________________________________________________________\n",
      "batch_normalization_8 (Batch (None, 256)               1024      \n",
      "_________________________________________________________________\n",
      "hidden_layer3 (Dense)        (None, 128)               32896     \n",
      "_________________________________________________________________\n",
      "batch_normalization_9 (Batch (None, 128)               512       \n",
      "_________________________________________________________________\n",
      "output (Dense)               (None, 10)                1290      \n",
      "=================================================================\n",
      "Total params: 1,742,474\n",
      "Trainable params: 1,740,682\n",
      "Non-trainable params: 1,792\n",
      "_________________________________________________________________\n",
      "Train on 50000 samples, validate on 10000 samples\n",
      "Epoch 1/50\n",
      "50000/50000 [==============================] - 37s 749us/step - loss: 2.2149 - accuracy: 0.2744 - val_loss: 2.1369 - val_accuracy: 0.2458\n",
      "Epoch 2/50\n",
      "50000/50000 [==============================] - 34s 683us/step - loss: 1.7320 - accuracy: 0.3995 - val_loss: 1.9675 - val_accuracy: 0.3107\n",
      "Epoch 3/50\n",
      "50000/50000 [==============================] - 32s 649us/step - loss: 1.6099 - accuracy: 0.4391 - val_loss: 1.8172 - val_accuracy: 0.3764\n",
      "Epoch 4/50\n",
      "50000/50000 [==============================] - 37s 740us/step - loss: 1.5393 - accuracy: 0.4644 - val_loss: 1.7167 - val_accuracy: 0.4130\n",
      "Epoch 5/50\n",
      "50000/50000 [==============================] - 34s 672us/step - loss: 1.4851 - accuracy: 0.4836 - val_loss: 1.6333 - val_accuracy: 0.4379\n",
      "Epoch 6/50\n",
      "50000/50000 [==============================] - 36s 717us/step - loss: 1.4400 - accuracy: 0.4986 - val_loss: 1.5772 - val_accuracy: 0.4489\n",
      "Epoch 7/50\n",
      "50000/50000 [==============================] - 36s 712us/step - loss: 1.3993 - accuracy: 0.5141 - val_loss: 1.5502 - val_accuracy: 0.4534\n",
      "Epoch 8/50\n",
      "50000/50000 [==============================] - 34s 687us/step - loss: 1.3653 - accuracy: 0.5255 - val_loss: 1.5222 - val_accuracy: 0.4633\n",
      "Epoch 9/50\n",
      "50000/50000 [==============================] - 32s 634us/step - loss: 1.3310 - accuracy: 0.5376 - val_loss: 1.5026 - val_accuracy: 0.4681\n",
      "Epoch 10/50\n",
      "50000/50000 [==============================] - 36s 714us/step - loss: 1.3029 - accuracy: 0.5486 - val_loss: 1.4902 - val_accuracy: 0.4745\n",
      "Epoch 11/50\n",
      "50000/50000 [==============================] - 34s 673us/step - loss: 1.2745 - accuracy: 0.5582 - val_loss: 1.4706 - val_accuracy: 0.4772\n",
      "Epoch 12/50\n",
      "50000/50000 [==============================] - 35s 701us/step - loss: 1.2462 - accuracy: 0.5689 - val_loss: 1.4632 - val_accuracy: 0.4852\n",
      "Epoch 13/50\n",
      "50000/50000 [==============================] - 39s 775us/step - loss: 1.2216 - accuracy: 0.5784 - val_loss: 1.4666 - val_accuracy: 0.4811\n",
      "Epoch 14/50\n",
      "50000/50000 [==============================] - 37s 732us/step - loss: 1.1953 - accuracy: 0.5896 - val_loss: 1.4585 - val_accuracy: 0.4816\n",
      "Epoch 15/50\n",
      "50000/50000 [==============================] - 35s 709us/step - loss: 1.1728 - accuracy: 0.5983 - val_loss: 1.4540 - val_accuracy: 0.4870\n",
      "Epoch 16/50\n",
      "50000/50000 [==============================] - 34s 671us/step - loss: 1.1492 - accuracy: 0.6065 - val_loss: 1.4485 - val_accuracy: 0.4942\n",
      "Epoch 17/50\n",
      "50000/50000 [==============================] - 31s 620us/step - loss: 1.1246 - accuracy: 0.6155 - val_loss: 1.4434 - val_accuracy: 0.4930\n",
      "Epoch 18/50\n",
      "50000/50000 [==============================] - 31s 623us/step - loss: 1.1036 - accuracy: 0.6228 - val_loss: 1.4439 - val_accuracy: 0.4924\n",
      "Epoch 19/50\n",
      "50000/50000 [==============================] - 31s 625us/step - loss: 1.0795 - accuracy: 0.6328 - val_loss: 1.4482 - val_accuracy: 0.4918\n",
      "Epoch 20/50\n",
      "50000/50000 [==============================] - 30s 600us/step - loss: 1.0572 - accuracy: 0.6416 - val_loss: 1.4560 - val_accuracy: 0.4941\n",
      "Epoch 21/50\n",
      "50000/50000 [==============================] - 31s 621us/step - loss: 1.0374 - accuracy: 0.6494 - val_loss: 1.4544 - val_accuracy: 0.4906\n",
      "Epoch 22/50\n",
      "50000/50000 [==============================] - 31s 624us/step - loss: 1.0150 - accuracy: 0.6584 - val_loss: 1.4499 - val_accuracy: 0.4958\n",
      "Epoch 23/50\n",
      "50000/50000 [==============================] - 30s 608us/step - loss: 0.9938 - accuracy: 0.6668 - val_loss: 1.4503 - val_accuracy: 0.4977\n",
      "Epoch 24/50\n",
      "50000/50000 [==============================] - 31s 615us/step - loss: 0.9733 - accuracy: 0.6730 - val_loss: 1.4557 - val_accuracy: 0.4960\n",
      "Epoch 25/50\n",
      "50000/50000 [==============================] - 30s 600us/step - loss: 0.9522 - accuracy: 0.6815 - val_loss: 1.4528 - val_accuracy: 0.5016\n",
      "Epoch 26/50\n",
      "50000/50000 [==============================] - 30s 605us/step - loss: 0.9310 - accuracy: 0.6906 - val_loss: 1.4603 - val_accuracy: 0.4916\n",
      "Epoch 27/50\n",
      "50000/50000 [==============================] - 30s 610us/step - loss: 0.9118 - accuracy: 0.6967 - val_loss: 1.4689 - val_accuracy: 0.4970\n",
      "Epoch 00027: early stopping\n"
     ]
    }
   ],
   "source": [
    "# 載入 Callbacks\n",
    "from keras.callbacks import EarlyStopping\n",
    "\n",
    "earlystop = EarlyStopping(monitor=\"val_loss\", \n",
    "                          patience=10, \n",
    "                          verbose=1\n",
    "                          )\n",
    "\n",
    "model = build_mlp(input_shape=x_train.shape[1:])\n",
    "model.summary()\n",
    "optimizer = keras.optimizers.SGD(lr=LEARNING_RATE, nesterov=True, momentum=MOMENTUM)\n",
    "model.compile(loss=\"categorical_crossentropy\", metrics=[\"accuracy\"], optimizer=optimizer)\n",
    "\n",
    "model.fit(x_train, y_train, \n",
    "          epochs=EPOCHS, \n",
    "          batch_size=BATCH_SIZE, \n",
    "          validation_data=(x_test, y_test), \n",
    "          shuffle=True,\n",
    "          callbacks=[earlystop]\n",
    "         )\n",
    "\n",
    "# Collect results\n",
    "train_loss = model.history.history[\"loss\"]\n",
    "valid_loss = model.history.history[\"val_loss\"]"
   ]
  },
  {
   "cell_type": "code",
   "execution_count": 11,
   "metadata": {},
   "outputs": [],
   "source": [
    "train_acc = model.history.history[\"accuracy\"]\n",
    "valid_acc = model.history.history[\"val_accuracy\"]"
   ]
  },
  {
   "cell_type": "code",
   "execution_count": 12,
   "metadata": {},
   "outputs": [
    {
     "data": {
      "image/png": "[encoded data removed]",
      "text/plain": [
       "<Figure size 432x288 with 1 Axes>"
      ]
     },
     "metadata": {
      "needs_background": "light"
     },
     "output_type": "display_data"
    },
    {
     "data": {
      "image/png": "[encoded data removed]",
      "text/plain": [
       "<Figure size 432x288 with 1 Axes>"
      ]
     },
     "metadata": {
      "needs_background": "light"
     },
     "output_type": "display_data"
    }
   ],
   "source": [
    "import matplotlib.pyplot as plt\n",
    "%matplotlib inline\n",
    "\n",
    "plt.plot(range(len(train_loss)), train_loss, label=\"train loss\")\n",
    "plt.plot(range(len(valid_loss)), valid_loss, label=\"valid loss\")\n",
    "plt.legend()\n",
    "plt.title(\"Loss\")\n",
    "plt.show()\n",
    "\n",
    "plt.plot(range(len(train_acc)), train_acc, label=\"train accuracy\")\n",
    "plt.plot(range(len(valid_acc)), valid_acc, label=\"valid accuracy\")\n",
    "plt.legend()\n",
    "plt.title(\"Accuracy\")\n",
    "plt.show()"
   ]
  },
  {
   "cell_type": "code",
   "execution_count": null,
   "metadata": {},
   "outputs": [],
   "source": []
  }
 ],
 "metadata": {
  "kernelspec": {
   "display_name": "Python 3",
   "language": "python",
   "name": "python3"
  },
  "language_info": {
   "codemirror_mode": {
    "name": "ipython",
    "version": 3
   },
   "file_extension": ".py",
   "mimetype": "text/x-python",
   "name": "python",
   "nbconvert_exporter": "python",
   "pygments_lexer": "ipython3",
   "version": "3.7.3"
  }
 },
 "nbformat": 4,
 "nbformat_minor": 2
}
