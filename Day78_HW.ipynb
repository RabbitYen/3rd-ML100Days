{
 "cells": [
  {
   "cell_type": "markdown",
   "metadata": {},
   "source": [
    "## Work\n",
    "1. 請嘗試將 preproc_x 替換成以每筆資料的 min/max 進行標準化至 -1 ~ 1 間，再進行訓練\n",
    "2. 請嘗試將 mlp 疊更深 (e.g 5~10 層)，進行訓練後觀察 learning curve 的走勢\n",
    "3. (optional) 請改用 GPU 進行訓練 (如果你有 GPU 的話)，比較使用 CPU 與 GPU 的訓練速度"
   ]
  },
  {
   "cell_type": "code",
   "execution_count": 3,
   "metadata": {},
   "outputs": [
    {
     "name": "stderr",
     "output_type": "stream",
     "text": [
      "Using TensorFlow backend.\n"
     ]
    }
   ],
   "source": [
    "import os\n",
    "import keras\n",
    "import numpy as np\n",
    "\n",
    "# 請嘗試設定 GPU：os.environ\n",
    "os.environ[\"CUDA_VISIBLE_DEVICES\"] = \"0\""
   ]
  },
  {
   "cell_type": "code",
   "execution_count": 4,
   "metadata": {},
   "outputs": [],
   "source": [
    "train, test = keras.datasets.cifar10.load_data()"
   ]
  },
  {
   "cell_type": "code",
   "execution_count": 5,
   "metadata": {},
   "outputs": [],
   "source": [
    "## 資料前處理\n",
    "def preproc_x(x, flatten=True):\n",
    "    x = (x / 255. * 2) -1\n",
    "    if flatten:\n",
    "        x = x.reshape((len(x), -1))\n",
    "    return x\n",
    "\n",
    "def preproc_y(y, num_classes=10):\n",
    "    if y.shape[-1] == 1:\n",
    "        y = keras.utils.to_categorical(y, num_classes)\n",
    "    return y"
   ]
  },
  {
   "cell_type": "code",
   "execution_count": 6,
   "metadata": {},
   "outputs": [],
   "source": [
    "x_train, y_train = train\n",
    "x_test, y_test = test\n",
    "\n",
    "# Preproc the inputs- X 標準化\n",
    "x_train = preproc_x(x_train)\n",
    "x_test = preproc_x(x_test)\n",
    "\n",
    "# Preprc the outputs-Y 轉成 onehot\n",
    "y_train = preproc_y(y_train)\n",
    "y_test = preproc_y(y_test)"
   ]
  },
  {
   "cell_type": "code",
   "execution_count": 8,
   "metadata": {},
   "outputs": [
    {
     "name": "stdout",
     "output_type": "stream",
     "text": [
      "Model: \"model_1\"\n",
      "_________________________________________________________________\n",
      "Layer (type)                 Output Shape              Param #   \n",
      "=================================================================\n",
      "input_1 (InputLayer)         (None, 3072)              0         \n",
      "_________________________________________________________________\n",
      "hidden_layer1 (Dense)        (None, 512)               1573376   \n",
      "_________________________________________________________________\n",
      "hidden_layer2 (Dense)        (None, 256)               131328    \n",
      "_________________________________________________________________\n",
      "hidden_layer3 (Dense)        (None, 128)               32896     \n",
      "_________________________________________________________________\n",
      "hidden_layer4 (Dense)        (None, 64)                8256      \n",
      "_________________________________________________________________\n",
      "hidden_layer5 (Dense)        (None, 64)                4160      \n",
      "_________________________________________________________________\n",
      "hidden_layer6 (Dense)        (None, 32)                2080      \n",
      "_________________________________________________________________\n",
      "hidden_layer7 (Dense)        (None, 32)                1056      \n",
      "_________________________________________________________________\n",
      "hidden_layer8 (Dense)        (None, 16)                528       \n",
      "_________________________________________________________________\n",
      "output (Dense)               (None, 10)                170       \n",
      "=================================================================\n",
      "Total params: 1,753,850\n",
      "Trainable params: 1,753,850\n",
      "Non-trainable params: 0\n",
      "_________________________________________________________________\n"
     ]
    }
   ],
   "source": [
    "#建立你的神經網路\n",
    "def build_mlp(input_shape, output_units=10, num_neurons=[512, 256, 128, 64, 64, 32, 32, 16]):\n",
    "    input_layer = keras.layers.Input(input_shape)\n",
    "    \n",
    "    for i, n_units in enumerate(num_neurons):\n",
    "        if i == 0:\n",
    "            x = keras.layers.Dense(units=n_units, activation=\"relu\", name=\"hidden_layer\"+str(i+1))(input_layer)\n",
    "        else:\n",
    "            x = keras.layers.Dense(units=n_units, activation=\"relu\", name=\"hidden_layer\"+str(i+1))(x)\n",
    "            \n",
    "    \n",
    "    out = keras.layers.Dense(units=output_units, activation=\"softmax\", name=\"output\")(x)\n",
    "    \n",
    "    model = keras.models.Model(inputs=[input_layer], outputs=[out])\n",
    "    return model\n",
    "model = build_mlp(input_shape=x_train.shape[1:])\n",
    "model.summary()"
   ]
  },
  {
   "cell_type": "code",
   "execution_count": 9,
   "metadata": {},
   "outputs": [],
   "source": [
    "## 超參數設定\n",
    "LEARNING_RATE = 0.001\n",
    "EPOCHS = 100\n",
    "BATCH_SIZE = 256"
   ]
  },
  {
   "cell_type": "code",
   "execution_count": 10,
   "metadata": {},
   "outputs": [],
   "source": [
    "optimizer = keras.optimizers.Adam(lr=LEARNING_RATE)\n",
    "model.compile(loss=\"categorical_crossentropy\", metrics=[\"accuracy\"], optimizer=optimizer)"
   ]
  },
  {
   "cell_type": "code",
   "execution_count": 11,
   "metadata": {},
   "outputs": [
    {
     "name": "stdout",
     "output_type": "stream",
     "text": [
      "Train on 50000 samples, validate on 10000 samples\n",
      "Epoch 1/100\n",
      "50000/50000 [==============================] - 74s 1ms/step - loss: 1.8790 - accuracy: 0.3230 - val_loss: 1.6634 - val_accuracy: 0.4192\n",
      "Epoch 2/100\n",
      "50000/50000 [==============================] - 34s 678us/step - loss: 1.5645 - accuracy: 0.4474 - val_loss: 1.5171 - val_accuracy: 0.4739\n",
      "Epoch 3/100\n",
      "50000/50000 [==============================] - 20s 408us/step - loss: 1.4258 - accuracy: 0.4986 - val_loss: 1.4618 - val_accuracy: 0.4883\n",
      "Epoch 4/100\n",
      "50000/50000 [==============================] - 20s 395us/step - loss: 1.3207 - accuracy: 0.5350 - val_loss: 1.3844 - val_accuracy: 0.5119\n",
      "Epoch 5/100\n",
      "50000/50000 [==============================] - 19s 379us/step - loss: 1.2443 - accuracy: 0.5623 - val_loss: 1.3604 - val_accuracy: 0.5254\n",
      "Epoch 6/100\n",
      "50000/50000 [==============================] - 19s 382us/step - loss: 1.1542 - accuracy: 0.5927 - val_loss: 1.3748 - val_accuracy: 0.5196\n",
      "Epoch 7/100\n",
      "50000/50000 [==============================] - 19s 382us/step - loss: 1.0900 - accuracy: 0.6176 - val_loss: 1.3753 - val_accuracy: 0.5286\n",
      "Epoch 8/100\n",
      "50000/50000 [==============================] - 19s 384us/step - loss: 1.0165 - accuracy: 0.6424 - val_loss: 1.3737 - val_accuracy: 0.5418\n",
      "Epoch 9/100\n",
      "50000/50000 [==============================] - 19s 386us/step - loss: 0.9535 - accuracy: 0.6658 - val_loss: 1.3825 - val_accuracy: 0.5430\n",
      "Epoch 10/100\n",
      "50000/50000 [==============================] - 19s 383us/step - loss: 0.8782 - accuracy: 0.6920 - val_loss: 1.4504 - val_accuracy: 0.5366 ac - ETA: 2s - loss: 0.8744 - accuracy\n",
      "Epoch 11/100\n",
      "50000/50000 [==============================] - 20s 402us/step - loss: 0.8165 - accuracy: 0.7123 - val_loss: 1.4656 - val_accuracy: 0.5400\n",
      "Epoch 12/100\n",
      "50000/50000 [==============================] - 20s 402us/step - loss: 0.7626 - accuracy: 0.7311 - val_loss: 1.5012 - val_accuracy: 0.5383\n",
      "Epoch 13/100\n",
      "50000/50000 [==============================] - 19s 384us/step - loss: 0.7069 - accuracy: 0.7494 - val_loss: 1.5511 - val_accuracy: 0.5419\n",
      "Epoch 14/100\n",
      "50000/50000 [==============================] - 19s 379us/step - loss: 0.6521 - accuracy: 0.7715 - val_loss: 1.6075 - val_accuracy: 0.5396\n",
      "Epoch 15/100\n",
      "50000/50000 [==============================] - 19s 383us/step - loss: 0.5965 - accuracy: 0.7930 - val_loss: 1.7119 - val_accuracy: 0.5363\n",
      "Epoch 16/100\n",
      "50000/50000 [==============================] - 19s 387us/step - loss: 0.5632 - accuracy: 0.8024 - val_loss: 1.7233 - val_accuracy: 0.5400\n",
      "Epoch 17/100\n",
      "50000/50000 [==============================] - 19s 384us/step - loss: 0.5127 - accuracy: 0.8207 - val_loss: 1.7668 - val_accuracy: 0.5256\n",
      "Epoch 18/100\n",
      "50000/50000 [==============================] - 19s 387us/step - loss: 0.4865 - accuracy: 0.8296 - val_loss: 1.8703 - val_accuracy: 0.5331\n",
      "Epoch 19/100\n",
      "50000/50000 [==============================] - 19s 388us/step - loss: 0.4517 - accuracy: 0.8433 - val_loss: 1.9030 - val_accuracy: 0.5393\n",
      "Epoch 20/100\n",
      "50000/50000 [==============================] - 21s 419us/step - loss: 0.4160 - accuracy: 0.8539 - val_loss: 2.0505 - val_accuracy: 0.5348\n",
      "Epoch 21/100\n",
      "50000/50000 [==============================] - 20s 395us/step - loss: 0.3799 - accuracy: 0.8689 - val_loss: 2.1046 - val_accuracy: 0.5336\n",
      "Epoch 22/100\n",
      "50000/50000 [==============================] - 19s 380us/step - loss: 0.3672 - accuracy: 0.8728 - val_loss: 2.1178 - val_accuracy: 0.5306\n",
      "Epoch 23/100\n",
      "50000/50000 [==============================] - 19s 378us/step - loss: 0.3545 - accuracy: 0.8764 - val_loss: 2.1617 - val_accuracy: 0.5349\n",
      "Epoch 24/100\n",
      "50000/50000 [==============================] - 19s 381us/step - loss: 0.3158 - accuracy: 0.8912 - val_loss: 2.3143 - val_accuracy: 0.5311\n",
      "Epoch 25/100\n",
      "50000/50000 [==============================] - 19s 384us/step - loss: 0.3003 - accuracy: 0.8953 - val_loss: 2.3933 - val_accuracy: 0.5258\n",
      "Epoch 26/100\n",
      "50000/50000 [==============================] - 19s 388us/step - loss: 0.2713 - accuracy: 0.9067 - val_loss: 2.4997 - val_accuracy: 0.5367\n",
      "Epoch 27/100\n",
      "50000/50000 [==============================] - 19s 388us/step - loss: 0.2754 - accuracy: 0.9052 - val_loss: 2.4468 - val_accuracy: 0.5293\n",
      "Epoch 28/100\n",
      "50000/50000 [==============================] - 20s 391us/step - loss: 0.2580 - accuracy: 0.9119 - val_loss: 2.5492 - val_accuracy: 0.5244\n",
      "Epoch 29/100\n",
      "50000/50000 [==============================] - 19s 378us/step - loss: 0.2498 - accuracy: 0.9137 - val_loss: 2.6890 - val_accuracy: 0.5325\n",
      "Epoch 30/100\n",
      "50000/50000 [==============================] - 19s 385us/step - loss: 0.2376 - accuracy: 0.9184 - val_loss: 2.5100 - val_accuracy: 0.5320\n",
      "Epoch 31/100\n",
      "50000/50000 [==============================] - 19s 380us/step - loss: 0.2240 - accuracy: 0.9228 - val_loss: 2.6437 - val_accuracy: 0.5223\n",
      "Epoch 32/100\n",
      "50000/50000 [==============================] - 21s 429us/step - loss: 0.2158 - accuracy: 0.9258 - val_loss: 2.7226 - val_accuracy: 0.5343\n",
      "Epoch 33/100\n",
      "50000/50000 [==============================] - 22s 432us/step - loss: 0.2076 - accuracy: 0.9298 - val_loss: 2.7946 - val_accuracy: 0.5312\n",
      "Epoch 34/100\n",
      "50000/50000 [==============================] - 21s 424us/step - loss: 0.1856 - accuracy: 0.9377 - val_loss: 2.8745 - val_accuracy: 0.5343\n",
      "Epoch 35/100\n",
      "50000/50000 [==============================] - 20s 408us/step - loss: 0.1878 - accuracy: 0.9369 - val_loss: 2.9081 - val_accuracy: 0.5342\n",
      "Epoch 36/100\n",
      "50000/50000 [==============================] - 20s 406us/step - loss: 0.1930 - accuracy: 0.9331 - val_loss: 2.9557 - val_accuracy: 0.5323\n",
      "Epoch 37/100\n",
      "50000/50000 [==============================] - 20s 409us/step - loss: 0.1828 - accuracy: 0.9378 - val_loss: 2.8968 - val_accuracy: 0.5301\n",
      "Epoch 38/100\n",
      "50000/50000 [==============================] - 21s 415us/step - loss: 0.1613 - accuracy: 0.9445 - val_loss: 3.0200 - val_accuracy: 0.5314\n",
      "Epoch 39/100\n",
      "50000/50000 [==============================] - 21s 422us/step - loss: 0.1548 - accuracy: 0.9474 - val_loss: 3.0135 - val_accuracy: 0.5254\n",
      "Epoch 40/100\n",
      "50000/50000 [==============================] - 21s 422us/step - loss: 0.1604 - accuracy: 0.9455 - val_loss: 3.1028 - val_accuracy: 0.5294\n",
      "Epoch 41/100\n",
      "50000/50000 [==============================] - 21s 415us/step - loss: 0.1563 - accuracy: 0.9473 - val_loss: 3.0908 - val_accuracy: 0.5310\n",
      "Epoch 42/100\n",
      "50000/50000 [==============================] - 21s 412us/step - loss: 0.1653 - accuracy: 0.9447 - val_loss: 3.0954 - val_accuracy: 0.5316\n",
      "Epoch 43/100\n",
      "50000/50000 [==============================] - 21s 415us/step - loss: 0.1368 - accuracy: 0.9540 - val_loss: 3.1090 - val_accuracy: 0.5235\n",
      "Epoch 44/100\n",
      "50000/50000 [==============================] - 21s 419us/step - loss: 0.1497 - accuracy: 0.9495 - val_loss: 3.1882 - val_accuracy: 0.5300\n",
      "Epoch 45/100\n",
      "50000/50000 [==============================] - 21s 416us/step - loss: 0.1375 - accuracy: 0.9538 - val_loss: 3.2261 - val_accuracy: 0.5241\n",
      "Epoch 46/100\n",
      "50000/50000 [==============================] - 21s 414us/step - loss: 0.1401 - accuracy: 0.9528 - val_loss: 3.3319 - val_accuracy: 0.5275\n",
      "Epoch 47/100\n",
      "50000/50000 [==============================] - 21s 427us/step - loss: 0.1390 - accuracy: 0.9532 - val_loss: 3.2963 - val_accuracy: 0.5302\n",
      "Epoch 48/100\n",
      "50000/50000 [==============================] - 21s 415us/step - loss: 0.1261 - accuracy: 0.9583 - val_loss: 3.5182 - val_accuracy: 0.5268\n",
      "Epoch 49/100\n",
      "50000/50000 [==============================] - 21s 417us/step - loss: 0.1277 - accuracy: 0.9577 - val_loss: 3.4690 - val_accuracy: 0.5264\n",
      "Epoch 50/100\n",
      "50000/50000 [==============================] - 21s 419us/step - loss: 0.1296 - accuracy: 0.9572 - val_loss: 3.4213 - val_accuracy: 0.5281\n",
      "Epoch 51/100\n",
      "50000/50000 [==============================] - 21s 424us/step - loss: 0.1250 - accuracy: 0.9593 - val_loss: 3.4135 - val_accuracy: 0.5303\n",
      "Epoch 52/100\n",
      "50000/50000 [==============================] - 21s 422us/step - loss: 0.1242 - accuracy: 0.9583 - val_loss: 3.4393 - val_accuracy: 0.5170\n",
      "Epoch 53/100\n",
      "50000/50000 [==============================] - 21s 421us/step - loss: 0.1103 - accuracy: 0.9633 - val_loss: 3.4046 - val_accuracy: 0.5315\n",
      "Epoch 54/100\n",
      "50000/50000 [==============================] - 21s 417us/step - loss: 0.1187 - accuracy: 0.9611 - val_loss: 3.3907 - val_accuracy: 0.5330\n"
     ]
    },
    {
     "name": "stdout",
     "output_type": "stream",
     "text": [
      "Epoch 55/100\n",
      "50000/50000 [==============================] - 20s 404us/step - loss: 0.1145 - accuracy: 0.9629 - val_loss: 3.3047 - val_accuracy: 0.5269\n",
      "Epoch 56/100\n",
      "50000/50000 [==============================] - 20s 397us/step - loss: 0.1105 - accuracy: 0.9634 - val_loss: 3.3723 - val_accuracy: 0.5311\n",
      "Epoch 57/100\n",
      "50000/50000 [==============================] - 20s 402us/step - loss: 0.1169 - accuracy: 0.9608 - val_loss: 3.1890 - val_accuracy: 0.5291\n",
      "Epoch 58/100\n",
      "50000/50000 [==============================] - 20s 397us/step - loss: 0.1095 - accuracy: 0.9644 - val_loss: 3.4702 - val_accuracy: 0.5332\n",
      "Epoch 59/100\n",
      "50000/50000 [==============================] - 20s 394us/step - loss: 0.0935 - accuracy: 0.9702 - val_loss: 3.5282 - val_accuracy: 0.5293\n",
      "Epoch 60/100\n",
      "50000/50000 [==============================] - 20s 397us/step - loss: 0.0941 - accuracy: 0.9687 - val_loss: 3.6549 - val_accuracy: 0.5324\n",
      "Epoch 61/100\n",
      "50000/50000 [==============================] - 20s 400us/step - loss: 0.1096 - accuracy: 0.9644 - val_loss: 3.5306 - val_accuracy: 0.5338\n",
      "Epoch 62/100\n",
      "50000/50000 [==============================] - 21s 428us/step - loss: 0.1056 - accuracy: 0.9660 - val_loss: 3.4939 - val_accuracy: 0.5299\n",
      "Epoch 63/100\n",
      "50000/50000 [==============================] - 20s 406us/step - loss: 0.0961 - accuracy: 0.9686 - val_loss: 3.6231 - val_accuracy: 0.5265\n",
      "Epoch 64/100\n",
      "50000/50000 [==============================] - 20s 403us/step - loss: 0.1125 - accuracy: 0.9628 - val_loss: 3.3962 - val_accuracy: 0.5300\n",
      "Epoch 65/100\n",
      "50000/50000 [==============================] - 21s 411us/step - loss: 0.0956 - accuracy: 0.9684 - val_loss: 3.4950 - val_accuracy: 0.5278\n",
      "Epoch 66/100\n",
      "50000/50000 [==============================] - 20s 399us/step - loss: 0.0974 - accuracy: 0.9671 - val_loss: 3.4377 - val_accuracy: 0.5225\n",
      "Epoch 67/100\n",
      "50000/50000 [==============================] - 20s 397us/step - loss: 0.0809 - accuracy: 0.9739 - val_loss: 3.8182 - val_accuracy: 0.5362\n",
      "Epoch 68/100\n",
      "50000/50000 [==============================] - 20s 403us/step - loss: 0.0854 - accuracy: 0.9723 - val_loss: 3.5927 - val_accuracy: 0.5368\n",
      "Epoch 69/100\n",
      "50000/50000 [==============================] - 22s 436us/step - loss: 0.1011 - accuracy: 0.9670 - val_loss: 3.6945 - val_accuracy: 0.5308\n",
      "Epoch 70/100\n",
      "50000/50000 [==============================] - 20s 401us/step - loss: 0.0873 - accuracy: 0.9713 - val_loss: 3.6883 - val_accuracy: 0.5286\n",
      "Epoch 71/100\n",
      "50000/50000 [==============================] - 20s 397us/step - loss: 0.0843 - accuracy: 0.9727 - val_loss: 3.6374 - val_accuracy: 0.5260\n",
      "Epoch 72/100\n",
      "50000/50000 [==============================] - 20s 401us/step - loss: 0.0761 - accuracy: 0.9752 - val_loss: 3.6423 - val_accuracy: 0.5242\n",
      "Epoch 73/100\n",
      "50000/50000 [==============================] - 20s 401us/step - loss: 0.0769 - accuracy: 0.9746 - val_loss: 3.4374 - val_accuracy: 0.5333\n",
      "Epoch 74/100\n",
      "50000/50000 [==============================] - 20s 400us/step - loss: 0.0836 - accuracy: 0.9730 - val_loss: 3.7210 - val_accuracy: 0.5347\n",
      "Epoch 75/100\n",
      "50000/50000 [==============================] - 21s 427us/step - loss: 0.0795 - accuracy: 0.9736 - val_loss: 3.7549 - val_accuracy: 0.5315\n",
      "Epoch 76/100\n",
      "50000/50000 [==============================] - 20s 404us/step - loss: 0.0991 - accuracy: 0.9681 - val_loss: 3.5394 - val_accuracy: 0.5263\n",
      "Epoch 77/100\n",
      "50000/50000 [==============================] - 20s 403us/step - loss: 0.0807 - accuracy: 0.9737 - val_loss: 3.6571 - val_accuracy: 0.5272\n",
      "Epoch 78/100\n",
      "50000/50000 [==============================] - 20s 399us/step - loss: 0.0783 - accuracy: 0.9738 - val_loss: 3.7007 - val_accuracy: 0.5249\n",
      "Epoch 79/100\n",
      "50000/50000 [==============================] - 20s 400us/step - loss: 0.0749 - accuracy: 0.9747 - val_loss: 3.7294 - val_accuracy: 0.5281\n",
      "Epoch 80/100\n",
      "50000/50000 [==============================] - 20s 406us/step - loss: 0.0788 - accuracy: 0.9741 - val_loss: 3.8736 - val_accuracy: 0.5320\n",
      "Epoch 81/100\n",
      "50000/50000 [==============================] - 21s 415us/step - loss: 0.0945 - accuracy: 0.9694 - val_loss: 3.6045 - val_accuracy: 0.5322\n",
      "Epoch 82/100\n",
      "50000/50000 [==============================] - 20s 400us/step - loss: 0.0705 - accuracy: 0.9773 - val_loss: 3.8577 - val_accuracy: 0.5268\n",
      "Epoch 83/100\n",
      "50000/50000 [==============================] - 20s 405us/step - loss: 0.0766 - accuracy: 0.9754 - val_loss: 3.8487 - val_accuracy: 0.5287\n",
      "Epoch 84/100\n",
      "50000/50000 [==============================] - 21s 413us/step - loss: 0.0731 - accuracy: 0.9762 - val_loss: 3.6271 - val_accuracy: 0.5353\n",
      "Epoch 85/100\n",
      "50000/50000 [==============================] - 21s 411us/step - loss: 0.0774 - accuracy: 0.9754 - val_loss: 3.5528 - val_accuracy: 0.5348\n",
      "Epoch 86/100\n",
      "50000/50000 [==============================] - 21s 410us/step - loss: 0.0679 - accuracy: 0.9779 - val_loss: 3.7638 - val_accuracy: 0.5309\n",
      "Epoch 87/100\n",
      "50000/50000 [==============================] - 20s 409us/step - loss: 0.0767 - accuracy: 0.9757 - val_loss: 3.7065 - val_accuracy: 0.5298\n",
      "Epoch 88/100\n",
      "50000/50000 [==============================] - 20s 404us/step - loss: 0.0710 - accuracy: 0.9775 - val_loss: 3.7998 - val_accuracy: 0.5290\n",
      "Epoch 89/100\n",
      "50000/50000 [==============================] - 20s 402us/step - loss: 0.0626 - accuracy: 0.9802 - val_loss: 3.8569 - val_accuracy: 0.5284\n",
      "Epoch 90/100\n",
      "50000/50000 [==============================] - 20s 404us/step - loss: 0.0728 - accuracy: 0.9775 - val_loss: 3.7922 - val_accuracy: 0.5321\n",
      "Epoch 91/100\n",
      "50000/50000 [==============================] - 21s 421us/step - loss: 0.0756 - accuracy: 0.9758 - val_loss: 3.7127 - val_accuracy: 0.5303\n",
      "Epoch 92/100\n",
      "50000/50000 [==============================] - 21s 420us/step - loss: 0.0612 - accuracy: 0.9804 - val_loss: 3.7197 - val_accuracy: 0.5333\n",
      "Epoch 93/100\n",
      "50000/50000 [==============================] - 21s 426us/step - loss: 0.0801 - accuracy: 0.9741 - val_loss: 3.5595 - val_accuracy: 0.5265\n",
      "Epoch 94/100\n",
      "50000/50000 [==============================] - 21s 417us/step - loss: 0.0667 - accuracy: 0.9794 - val_loss: 3.7069 - val_accuracy: 0.5212\n",
      "Epoch 95/100\n",
      "50000/50000 [==============================] - 22s 434us/step - loss: 0.0606 - accuracy: 0.9800 - val_loss: 3.8733 - val_accuracy: 0.5371\n",
      "Epoch 96/100\n",
      "50000/50000 [==============================] - 20s 408us/step - loss: 0.0625 - accuracy: 0.9801 - val_loss: 3.7275 - val_accuracy: 0.5304\n",
      "Epoch 97/100\n",
      "50000/50000 [==============================] - 21s 424us/step - loss: 0.0692 - accuracy: 0.9773 - val_loss: 3.7157 - val_accuracy: 0.5295\n",
      "Epoch 98/100\n",
      "50000/50000 [==============================] - 21s 410us/step - loss: 0.0672 - accuracy: 0.9787 - val_loss: 3.6780 - val_accuracy: 0.5347\n",
      "Epoch 99/100\n",
      "50000/50000 [==============================] - 20s 407us/step - loss: 0.0599 - accuracy: 0.9803 - val_loss: 3.7735 - val_accuracy: 0.5323\n",
      "Epoch 100/100\n",
      "50000/50000 [==============================] - 21s 411us/step - loss: 0.0619 - accuracy: 0.9797 - val_loss: 3.7459 - val_accuracy: 0.5311\n"
     ]
    },
    {
     "data": {
      "text/plain": [
       "<keras.callbacks.callbacks.History at 0x1d91a60b630>"
      ]
     },
     "execution_count": 11,
     "metadata": {},
     "output_type": "execute_result"
    }
   ],
   "source": [
    "model.fit(x_train, y_train, \n",
    "          epochs=EPOCHS, \n",
    "          batch_size=BATCH_SIZE, \n",
    "          validation_data=(x_test, y_test), \n",
    "          shuffle=True)"
   ]
  },
  {
   "cell_type": "code",
   "execution_count": 13,
   "metadata": {},
   "outputs": [
    {
     "data": {
      "image/png": "[encoded data removed]",
      "text/plain": [
       "<Figure size 432x288 with 1 Axes>"
      ]
     },
     "metadata": {
      "needs_background": "light"
     },
     "output_type": "display_data"
    },
    {
     "data": {
      "image/png": "[encoded data removed]",
      "text/plain": [
       "<Figure size 432x288 with 1 Axes>"
      ]
     },
     "metadata": {
      "needs_background": "light"
     },
     "output_type": "display_data"
    }
   ],
   "source": [
    "import matplotlib.pyplot as plt\n",
    "\n",
    "\n",
    "train_loss = model.history.history[\"loss\"]\n",
    "valid_loss = model.history.history[\"val_loss\"]\n",
    "\n",
    "train_acc = model.history.history[\"accuracy\"]\n",
    "valid_acc = model.history.history[\"val_accuracy\"]\n",
    "\n",
    "plt.plot(range(len(train_loss)), train_loss, label=\"train loss\")\n",
    "plt.plot(range(len(valid_loss)), valid_loss, label=\"valid loss\")\n",
    "plt.legend()\n",
    "plt.title(\"Loss\")\n",
    "plt.show()\n",
    "\n",
    "plt.plot(range(len(train_acc)), train_acc, label=\"train accuracy\")\n",
    "plt.plot(range(len(valid_acc)), valid_acc, label=\"valid accuracy\")\n",
    "plt.legend()\n",
    "plt.title(\"Accuracy\")\n",
    "plt.show()"
   ]
  },
  {
   "cell_type": "code",
   "execution_count": null,
   "metadata": {},
   "outputs": [],
   "source": []
  }
 ],
 "metadata": {
  "kernelspec": {
   "display_name": "Python 3",
   "language": "python",
   "name": "python3"
  },
  "language_info": {
   "codemirror_mode": {
    "name": "ipython",
    "version": 3
   },
   "file_extension": ".py",
   "mimetype": "text/x-python",
   "name": "python",
   "nbconvert_exporter": "python",
   "pygments_lexer": "ipython3",
   "version": "3.7.3"
  }
 },
 "nbformat": 4,
 "nbformat_minor": 2
}
