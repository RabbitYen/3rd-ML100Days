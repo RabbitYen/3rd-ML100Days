{
 "cells": [
  {
   "cell_type": "markdown",
   "metadata": {},
   "source": [
    "## Work\n",
    "1. 試比較 save_best_only 與否的差異\n",
    "2. 請僅存入將 save_weights_only 設定為 True, 並嘗試 reset ipynb 並將模型與權重重新建回並預測 x_test"
   ]
  },
  {
   "cell_type": "code",
   "execution_count": 1,
   "metadata": {},
   "outputs": [
    {
     "name": "stderr",
     "output_type": "stream",
     "text": [
      "Using TensorFlow backend.\n"
     ]
    }
   ],
   "source": [
    "import os\n",
    "import keras\n",
    "\n",
    "# Disable GPU\n",
    "os.environ[\"CUDA_VISIBLE_DEVICES\"] = \"\""
   ]
  },
  {
   "cell_type": "code",
   "execution_count": 2,
   "metadata": {},
   "outputs": [],
   "source": [
    "train, test = keras.datasets.cifar10.load_data()"
   ]
  },
  {
   "cell_type": "code",
   "execution_count": 3,
   "metadata": {},
   "outputs": [],
   "source": [
    "## 資料前處理\n",
    "def preproc_x(x, flatten=True):\n",
    "    x = x / 255.\n",
    "    if flatten:\n",
    "        x = x.reshape((len(x), -1))\n",
    "    return x\n",
    "\n",
    "def preproc_y(y, num_classes=10):\n",
    "    if y.shape[-1] == 1:\n",
    "        y = keras.utils.to_categorical(y, num_classes)\n",
    "    return y    "
   ]
  },
  {
   "cell_type": "code",
   "execution_count": 4,
   "metadata": {},
   "outputs": [],
   "source": [
    "x_train, y_train = train\n",
    "x_test, y_test = test\n",
    "\n",
    "# Preproc the inputs\n",
    "x_train = preproc_x(x_train)\n",
    "x_test = preproc_x(x_test)\n",
    "\n",
    "# Preprc the outputs\n",
    "y_train = preproc_y(y_train)\n",
    "y_test = preproc_y(y_test)"
   ]
  },
  {
   "cell_type": "code",
   "execution_count": 5,
   "metadata": {},
   "outputs": [],
   "source": [
    "from keras.layers import BatchNormalization\n",
    "\n",
    "\"\"\"\n",
    "建立神經網路，並加入 BN layer\n",
    "\"\"\"\n",
    "def build_mlp(input_shape, output_units=10, num_neurons=[512, 256, 128]):\n",
    "    input_layer = keras.layers.Input(input_shape)\n",
    "    \n",
    "    for i, n_units in enumerate(num_neurons):\n",
    "        if i == 0:\n",
    "            x = keras.layers.Dense(units=n_units, \n",
    "                                   activation=\"relu\", \n",
    "                                   name=\"hidden_layer\"+str(i+1))(input_layer)\n",
    "            x = BatchNormalization()(x)\n",
    "        else:\n",
    "            x = keras.layers.Dense(units=n_units, \n",
    "                                   activation=\"relu\", \n",
    "                                   name=\"hidden_layer\"+str(i+1))(x)\n",
    "            x = BatchNormalization()(x)\n",
    "    \n",
    "    out = keras.layers.Dense(units=output_units, activation=\"softmax\", name=\"output\")(x)\n",
    "    \n",
    "    model = keras.models.Model(inputs=[input_layer], outputs=[out])\n",
    "    return model"
   ]
  },
  {
   "cell_type": "code",
   "execution_count": 6,
   "metadata": {},
   "outputs": [],
   "source": [
    "\"\"\"Code Here\n",
    "設定超參數\n",
    "\"\"\"\n",
    "LEARNING_RATE = 1e-3\n",
    "EPOCHS = 50\n",
    "BATCH_SIZE = 1024\n",
    "MOMENTUM = 0.95"
   ]
  },
  {
   "cell_type": "code",
   "execution_count": 7,
   "metadata": {},
   "outputs": [],
   "source": [
    "from keras.callbacks import ModelCheckpoint\n",
    "\n",
    "model_ckpt = ModelCheckpoint(filepath=\"./tmp.h5\", \n",
    "                             monitor=\"val_loss\", \n",
    "                             save_best_only=True)"
   ]
  },
  {
   "cell_type": "code",
   "execution_count": 8,
   "metadata": {
    "scrolled": true
   },
   "outputs": [
    {
     "name": "stdout",
     "output_type": "stream",
     "text": [
      "Model: \"model_1\"\n",
      "_________________________________________________________________\n",
      "Layer (type)                 Output Shape              Param #   \n",
      "=================================================================\n",
      "input_1 (InputLayer)         (None, 3072)              0         \n",
      "_________________________________________________________________\n",
      "hidden_layer1 (Dense)        (None, 512)               1573376   \n",
      "_________________________________________________________________\n",
      "batch_normalization_1 (Batch (None, 512)               2048      \n",
      "_________________________________________________________________\n",
      "hidden_layer2 (Dense)        (None, 256)               131328    \n",
      "_________________________________________________________________\n",
      "batch_normalization_2 (Batch (None, 256)               1024      \n",
      "_________________________________________________________________\n",
      "hidden_layer3 (Dense)        (None, 128)               32896     \n",
      "_________________________________________________________________\n",
      "batch_normalization_3 (Batch (None, 128)               512       \n",
      "_________________________________________________________________\n",
      "output (Dense)               (None, 10)                1290      \n",
      "=================================================================\n",
      "Total params: 1,742,474\n",
      "Trainable params: 1,740,682\n",
      "Non-trainable params: 1,792\n",
      "_________________________________________________________________\n",
      "Train on 50000 samples, validate on 10000 samples\n",
      "Epoch 1/50\n",
      "50000/50000 [==============================] - 39s 780us/step - loss: 2.1802 - accuracy: 0.2773 - val_loss: 2.1184 - val_accuracy: 0.2024\n",
      "Epoch 2/50\n",
      "50000/50000 [==============================] - 33s 663us/step - loss: 1.7451 - accuracy: 0.3958 - val_loss: 1.9917 - val_accuracy: 0.2967\n",
      "Epoch 3/50\n",
      "50000/50000 [==============================] - 34s 673us/step - loss: 1.6231 - accuracy: 0.4354 - val_loss: 1.8424 - val_accuracy: 0.3661\n",
      "Epoch 4/50\n",
      "50000/50000 [==============================] - 33s 665us/step - loss: 1.5494 - accuracy: 0.4602 - val_loss: 1.7366 - val_accuracy: 0.4037\n",
      "Epoch 5/50\n",
      "50000/50000 [==============================] - 34s 678us/step - loss: 1.4943 - accuracy: 0.4774 - val_loss: 1.6624 - val_accuracy: 0.4279\n",
      "Epoch 6/50\n",
      "50000/50000 [==============================] - 35s 701us/step - loss: 1.4482 - accuracy: 0.4950 - val_loss: 1.5931 - val_accuracy: 0.4422\n",
      "Epoch 7/50\n",
      "50000/50000 [==============================] - 35s 706us/step - loss: 1.4076 - accuracy: 0.5098 - val_loss: 1.5555 - val_accuracy: 0.4538\n",
      "Epoch 8/50\n",
      "50000/50000 [==============================] - 30s 592us/step - loss: 1.3712 - accuracy: 0.5228 - val_loss: 1.5369 - val_accuracy: 0.4575\n",
      "Epoch 9/50\n",
      "50000/50000 [==============================] - 30s 607us/step - loss: 1.3406 - accuracy: 0.5348 - val_loss: 1.5112 - val_accuracy: 0.4684\n",
      "Epoch 10/50\n",
      "50000/50000 [==============================] - 31s 622us/step - loss: 1.3100 - accuracy: 0.5450 - val_loss: 1.4910 - val_accuracy: 0.4750\n",
      "Epoch 11/50\n",
      "50000/50000 [==============================] - 29s 581us/step - loss: 1.2815 - accuracy: 0.5572 - val_loss: 1.4897 - val_accuracy: 0.4777\n",
      "Epoch 12/50\n",
      "50000/50000 [==============================] - 29s 580us/step - loss: 1.2534 - accuracy: 0.5673 - val_loss: 1.4784 - val_accuracy: 0.4758\n",
      "Epoch 13/50\n",
      "50000/50000 [==============================] - 29s 584us/step - loss: 1.2296 - accuracy: 0.5753 - val_loss: 1.4583 - val_accuracy: 0.4887\n",
      "Epoch 14/50\n",
      "50000/50000 [==============================] - 28s 564us/step - loss: 1.2020 - accuracy: 0.5868 - val_loss: 1.4671 - val_accuracy: 0.4816\n",
      "Epoch 15/50\n",
      "50000/50000 [==============================] - 29s 586us/step - loss: 1.1790 - accuracy: 0.5944 - val_loss: 1.4632 - val_accuracy: 0.4862\n",
      "Epoch 16/50\n",
      "50000/50000 [==============================] - 29s 588us/step - loss: 1.1564 - accuracy: 0.6025 - val_loss: 1.4529 - val_accuracy: 0.4896\n",
      "Epoch 17/50\n",
      "50000/50000 [==============================] - 29s 582us/step - loss: 1.1323 - accuracy: 0.6111 - val_loss: 1.4572 - val_accuracy: 0.4877\n",
      "Epoch 18/50\n",
      "50000/50000 [==============================] - 29s 580us/step - loss: 1.1072 - accuracy: 0.6206 - val_loss: 1.4518 - val_accuracy: 0.4950\n",
      "Epoch 19/50\n",
      "50000/50000 [==============================] - 28s 569us/step - loss: 1.0857 - accuracy: 0.6303 - val_loss: 1.4603 - val_accuracy: 0.4931\n",
      "Epoch 20/50\n",
      "50000/50000 [==============================] - 30s 592us/step - loss: 1.0649 - accuracy: 0.6363 - val_loss: 1.4562 - val_accuracy: 0.4883\n",
      "Epoch 21/50\n",
      "50000/50000 [==============================] - 30s 596us/step - loss: 1.0441 - accuracy: 0.6451 - val_loss: 1.4600 - val_accuracy: 0.4886\n",
      "Epoch 22/50\n",
      "50000/50000 [==============================] - 29s 586us/step - loss: 1.0226 - accuracy: 0.6525 - val_loss: 1.4520 - val_accuracy: 0.4981\n",
      "Epoch 23/50\n",
      "50000/50000 [==============================] - 30s 595us/step - loss: 1.0010 - accuracy: 0.6611 - val_loss: 1.4542 - val_accuracy: 0.4954\n",
      "Epoch 24/50\n",
      "50000/50000 [==============================] - 29s 584us/step - loss: 0.9796 - accuracy: 0.6685 - val_loss: 1.4594 - val_accuracy: 0.4934\n",
      "Epoch 25/50\n",
      "50000/50000 [==============================] - 28s 563us/step - loss: 0.9602 - accuracy: 0.6775 - val_loss: 1.4581 - val_accuracy: 0.4963\n",
      "Epoch 26/50\n",
      "50000/50000 [==============================] - 30s 592us/step - loss: 0.9393 - accuracy: 0.6869 - val_loss: 1.4606 - val_accuracy: 0.4943\n",
      "Epoch 27/50\n",
      "50000/50000 [==============================] - 29s 583us/step - loss: 0.9190 - accuracy: 0.6937 - val_loss: 1.4741 - val_accuracy: 0.4993\n",
      "Epoch 28/50\n",
      "50000/50000 [==============================] - 29s 584us/step - loss: 0.8193 - accuracy: 0.7325 - val_loss: 1.4972 - val_accuracy: 0.4924\n",
      "Epoch 33/50\n",
      "50000/50000 [==============================] - 29s 584us/step - loss: 0.7986 - accuracy: 0.7427 - val_loss: 1.4950 - val_accuracy: 0.4948\n",
      "Epoch 34/50\n",
      "50000/50000 [==============================] - 31s 616us/step - loss: 0.7797 - accuracy: 0.7506 - val_loss: 1.5054 - val_accuracy: 0.4987\n",
      "Epoch 35/50\n",
      "50000/50000 [==============================] - 28s 565us/step - loss: 0.7618 - accuracy: 0.7576 - val_loss: 1.5272 - val_accuracy: 0.4889\n",
      "Epoch 36/50\n",
      "50000/50000 [==============================] - 29s 588us/step - loss: 0.7435 - accuracy: 0.7630 - val_loss: 1.5022 - val_accuracy: 0.4944\n",
      "Epoch 37/50\n",
      "50000/50000 [==============================] - 30s 590us/step - loss: 0.7248 - accuracy: 0.7714 - val_loss: 1.5316 - val_accuracy: 0.4921\n",
      "Epoch 38/50\n",
      "50000/50000 [==============================] - 29s 575us/step - loss: 0.7050 - accuracy: 0.7789 - val_loss: 1.5247 - val_accuracy: 0.4972\n",
      "Epoch 39/50\n",
      "50000/50000 [==============================] - 29s 583us/step - loss: 0.6863 - accuracy: 0.7861 - val_loss: 1.5541 - val_accuracy: 0.4928\n",
      "Epoch 40/50\n",
      "50000/50000 [==============================] - 28s 565us/step - loss: 0.6673 - accuracy: 0.7942 - val_loss: 1.5628 - val_accuracy: 0.4924\n",
      "Epoch 41/50\n",
      "50000/50000 [==============================] - 29s 579us/step - loss: 0.6509 - accuracy: 0.8012 - val_loss: 1.5704 - val_accuracy: 0.4930\n",
      "Epoch 42/50\n",
      "50000/50000 [==============================] - 29s 574us/step - loss: 0.6326 - accuracy: 0.8090 - val_loss: 1.5916 - val_accuracy: 0.4934\n",
      "Epoch 43/50\n",
      "50000/50000 [==============================] - 29s 575us/step - loss: 0.6152 - accuracy: 0.8154 - val_loss: 1.5925 - val_accuracy: 0.4923\n",
      "Epoch 44/50\n",
      "50000/50000 [==============================] - 29s 578us/step - loss: 0.5977 - accuracy: 0.8222 - val_loss: 1.6081 - val_accuracy: 0.4945\n",
      "Epoch 45/50\n",
      "50000/50000 [==============================] - 29s 584us/step - loss: 0.5789 - accuracy: 0.8282 - val_loss: 1.6102 - val_accuracy: 0.4934\n",
      "Epoch 46/50\n",
      "50000/50000 [==============================] - 28s 558us/step - loss: 0.5617 - accuracy: 0.8367 - val_loss: 1.6309 - val_accuracy: 0.4835\n",
      "Epoch 47/50\n",
      "50000/50000 [==============================] - 29s 571us/step - loss: 0.5447 - accuracy: 0.8427 - val_loss: 1.6370 - val_accuracy: 0.4913\n",
      "Epoch 48/50\n",
      "50000/50000 [==============================] - 29s 578us/step - loss: 0.5290 - accuracy: 0.8480 - val_loss: 1.6685 - val_accuracy: 0.4846\n",
      "Epoch 49/50\n",
      "50000/50000 [==============================] - 29s 586us/step - loss: 0.5119 - accuracy: 0.8541 - val_loss: 1.6615 - val_accuracy: 0.4875\n"
     ]
    },
    {
     "name": "stdout",
     "output_type": "stream",
     "text": [
      "Epoch 50/50\n",
      "50000/50000 [==============================] - 31s 615us/step - loss: 0.4955 - accuracy: 0.8617 - val_loss: 1.6999 - val_accuracy: 0.4823\n",
      "10000/10000 [==============================] - 5s 472us/step\n"
     ]
    }
   ],
   "source": [
    "model = build_mlp(input_shape=x_train.shape[1:])\n",
    "model.summary()\n",
    "optimizer = keras.optimizers.SGD(lr=LEARNING_RATE, nesterov=True, momentum=MOMENTUM)\n",
    "model.compile(loss=\"categorical_crossentropy\", metrics=[\"accuracy\"], optimizer=optimizer)\n",
    "\n",
    "model.fit(x_train, y_train, \n",
    "          epochs=EPOCHS, \n",
    "          batch_size=BATCH_SIZE, \n",
    "          validation_data=(x_test, y_test), \n",
    "          shuffle=True,\n",
    "          callbacks=[model_ckpt]\n",
    "         )\n",
    "\n",
    "# Collect results\n",
    "train_loss = model.history.history[\"loss\"]\n",
    "valid_loss = model.history.history[\"val_loss\"]\n",
    "train_acc = model.history.history[\"accuracy\"]\n",
    "valid_acc = model.history.history[\"val_accuracy\"]\n",
    "\n",
    "# Load back\n",
    "model = keras.models.load_model(\"./tmp.h5\")\n",
    "loss_loadback, acc_loadback = model.evaluate(x_test, y_test)"
   ]
  },
  {
   "cell_type": "code",
   "execution_count": 9,
   "metadata": {},
   "outputs": [
    {
     "data": {
      "image/png": "[encoded data removed]",
      "text/plain": [
       "<Figure size 432x288 with 1 Axes>"
      ]
     },
     "metadata": {
      "needs_background": "light"
     },
     "output_type": "display_data"
    },
    {
     "data": {
      "image/png": "[encoded data removed]",
      "text/plain": [
       "<Figure size 432x288 with 1 Axes>"
      ]
     },
     "metadata": {
      "needs_background": "light"
     },
     "output_type": "display_data"
    }
   ],
   "source": [
    "import matplotlib.pyplot as plt\n",
    "%matplotlib inline\n",
    "\n",
    "plt.plot(range(len(train_loss)), train_loss, label=\"train loss\")\n",
    "plt.plot(range(len(valid_loss)), valid_loss, label=\"valid loss\")\n",
    "plt.hlines(y=loss_loadback, xmin=0, xmax=len(train_loss), colors='r', linestyles='--')\n",
    "plt.legend()\n",
    "plt.title(\"Loss\")\n",
    "plt.show()\n",
    "\n",
    "plt.plot(range(len(train_acc)), train_acc, label=\"train accuracy\")\n",
    "plt.plot(range(len(valid_acc)), valid_acc, label=\"valid accuracy\")\n",
    "plt.hlines(y=acc_loadback, xmin=0, xmax=len(train_loss), colors='r', linestyles='--')\n",
    "plt.legend()\n",
    "plt.title(\"Accuracy\")\n",
    "plt.show()"
   ]
  },
  {
   "cell_type": "markdown",
   "metadata": {},
   "source": [
    "## no save_best_only=False"
   ]
  },
  {
   "cell_type": "code",
   "execution_count": 10,
   "metadata": {},
   "outputs": [],
   "source": [
    "from keras.callbacks import ModelCheckpoint\n",
    "\n",
    "model_ckpt = ModelCheckpoint(filepath=\"./tmp.h5\", \n",
    "                             monitor=\"val_loss\",\n",
    "                             save_best_only=False)"
   ]
  },
  {
   "cell_type": "code",
   "execution_count": 11,
   "metadata": {},
   "outputs": [
    {
     "name": "stdout",
     "output_type": "stream",
     "text": [
      "Model: \"model_2\"\n",
      "_________________________________________________________________\n",
      "Layer (type)                 Output Shape              Param #   \n",
      "=================================================================\n",
      "input_2 (InputLayer)         (None, 3072)              0         \n",
      "_________________________________________________________________\n",
      "hidden_layer1 (Dense)        (None, 512)               1573376   \n",
      "_________________________________________________________________\n",
      "batch_normalization_4 (Batch (None, 512)               2048      \n",
      "_________________________________________________________________\n",
      "hidden_layer2 (Dense)        (None, 256)               131328    \n",
      "_________________________________________________________________\n",
      "batch_normalization_5 (Batch (None, 256)               1024      \n",
      "_________________________________________________________________\n",
      "hidden_layer3 (Dense)        (None, 128)               32896     \n",
      "_________________________________________________________________\n",
      "batch_normalization_6 (Batch (None, 128)               512       \n",
      "_________________________________________________________________\n",
      "output (Dense)               (None, 10)                1290      \n",
      "=================================================================\n",
      "Total params: 1,742,474\n",
      "Trainable params: 1,740,682\n",
      "Non-trainable params: 1,792\n",
      "_________________________________________________________________\n",
      "Train on 50000 samples, validate on 10000 samples\n",
      "Epoch 1/50\n",
      "50000/50000 [==============================] - 33s 663us/step - loss: 2.2364 - accuracy: 0.2631 - val_loss: 2.1166 - val_accuracy: 0.1831\n",
      "Epoch 2/50\n",
      "50000/50000 [==============================] - 29s 580us/step - loss: 1.7329 - accuracy: 0.3946 - val_loss: 1.9679 - val_accuracy: 0.2941\n",
      "Epoch 3/50\n",
      "50000/50000 [==============================] - 29s 574us/step - loss: 1.6115 - accuracy: 0.4368 - val_loss: 1.8308 - val_accuracy: 0.3581\n",
      "Epoch 4/50\n",
      "50000/50000 [==============================] - 28s 564us/step - loss: 1.5391 - accuracy: 0.4637 - val_loss: 1.7492 - val_accuracy: 0.3833\n",
      "Epoch 5/50\n",
      "50000/50000 [==============================] - 29s 590us/step - loss: 1.4860 - accuracy: 0.4824 - val_loss: 1.6511 - val_accuracy: 0.4270\n",
      "Epoch 6/50\n",
      "50000/50000 [==============================] - 29s 587us/step - loss: 1.4408 - accuracy: 0.4984 - val_loss: 1.5877 - val_accuracy: 0.4428\n",
      "Epoch 7/50\n",
      "50000/50000 [==============================] - 29s 584us/step - loss: 1.4028 - accuracy: 0.5101 - val_loss: 1.5564 - val_accuracy: 0.4546\n",
      "Epoch 8/50\n",
      "50000/50000 [==============================] - 29s 578us/step - loss: 1.3659 - accuracy: 0.5242 - val_loss: 1.5319 - val_accuracy: 0.4599\n",
      "Epoch 9/50\n",
      "50000/50000 [==============================] - 28s 563us/step - loss: 1.3343 - accuracy: 0.5374 - val_loss: 1.5037 - val_accuracy: 0.4697\n",
      "Epoch 10/50\n",
      "50000/50000 [==============================] - 30s 591us/step - loss: 1.3061 - accuracy: 0.5464 - val_loss: 1.5065 - val_accuracy: 0.4707\n",
      "Epoch 11/50\n",
      "50000/50000 [==============================] - 29s 579us/step - loss: 1.2794 - accuracy: 0.5557 - val_loss: 1.4865 - val_accuracy: 0.4715\n",
      "Epoch 12/50\n",
      "50000/50000 [==============================] - 31s 627us/step - loss: 1.2520 - accuracy: 0.5654 - val_loss: 1.4814 - val_accuracy: 0.4800\n",
      "Epoch 13/50\n",
      "50000/50000 [==============================] - 30s 601us/step - loss: 1.2281 - accuracy: 0.5736 - val_loss: 1.4746 - val_accuracy: 0.4752\n",
      "Epoch 14/50\n",
      "50000/50000 [==============================] - 29s 578us/step - loss: 1.1996 - accuracy: 0.5866 - val_loss: 1.4659 - val_accuracy: 0.4872\n",
      "Epoch 15/50\n",
      "50000/50000 [==============================] - 30s 602us/step - loss: 1.1779 - accuracy: 0.5940 - val_loss: 1.4805 - val_accuracy: 0.4726\n",
      "Epoch 16/50\n",
      "50000/50000 [==============================] - 30s 610us/step - loss: 1.1508 - accuracy: 0.6038 - val_loss: 1.4725 - val_accuracy: 0.4812\n",
      "Epoch 17/50\n",
      "50000/50000 [==============================] - 30s 600us/step - loss: 1.1294 - accuracy: 0.6141 - val_loss: 1.4699 - val_accuracy: 0.4880\n",
      "Epoch 18/50\n",
      "50000/50000 [==============================] - 30s 597us/step - loss: 1.1073 - accuracy: 0.6206 - val_loss: 1.4685 - val_accuracy: 0.4848\n",
      "Epoch 19/50\n",
      "50000/50000 [==============================] - 29s 587us/step - loss: 1.0846 - accuracy: 0.6294 - val_loss: 1.4657 - val_accuracy: 0.4894\n",
      "Epoch 20/50\n",
      "50000/50000 [==============================] - 30s 603us/step - loss: 1.0626 - accuracy: 0.6374 - val_loss: 1.4699 - val_accuracy: 0.4889\n",
      "Epoch 21/50\n",
      "50000/50000 [==============================] - 30s 593us/step - loss: 1.0419 - accuracy: 0.6463 - val_loss: 1.4794 - val_accuracy: 0.4875\n",
      "Epoch 22/50\n",
      "50000/50000 [==============================] - 29s 588us/step - loss: 1.0194 - accuracy: 0.6559 - val_loss: 1.4679 - val_accuracy: 0.4856\n",
      "Epoch 23/50\n",
      "50000/50000 [==============================] - 29s 582us/step - loss: 0.9987 - accuracy: 0.6616 - val_loss: 1.4796 - val_accuracy: 0.4874\n",
      "Epoch 24/50\n",
      "50000/50000 [==============================] - 28s 563us/step - loss: 0.9787 - accuracy: 0.6720 - val_loss: 1.4693 - val_accuracy: 0.4899\n",
      "Epoch 25/50\n",
      "50000/50000 [==============================] - 29s 588us/step - loss: 0.9554 - accuracy: 0.6772 - val_loss: 1.4722 - val_accuracy: 0.4916\n",
      "Epoch 26/50\n",
      "50000/50000 [==============================] - 29s 574us/step - loss: 0.9356 - accuracy: 0.6863 - val_loss: 1.4792 - val_accuracy: 0.4895\n",
      "Epoch 27/50\n",
      "50000/50000 [==============================] - 29s 573us/step - loss: 0.9151 - accuracy: 0.6944 - val_loss: 1.4830 - val_accuracy: 0.4866\n",
      "Epoch 28/50\n",
      "50000/50000 [==============================] - 30s 605us/step - loss: 0.8941 - accuracy: 0.7031 - val_loss: 1.4934 - val_accuracy: 0.4837\n",
      "Epoch 29/50\n",
      "50000/50000 [==============================] - 28s 567us/step - loss: 0.8796 - accuracy: 0.7082 - val_loss: 1.5113 - val_accuracy: 0.4819\n",
      "Epoch 30/50\n",
      "50000/50000 [==============================] - 29s 585us/step - loss: 0.8553 - accuracy: 0.7195 - val_loss: 1.5042 - val_accuracy: 0.4938\n",
      "Epoch 31/50\n",
      "50000/50000 [==============================] - 30s 590us/step - loss: 0.8368 - accuracy: 0.7259 - val_loss: 1.5079 - val_accuracy: 0.4927\n",
      "Epoch 32/50\n",
      "50000/50000 [==============================] - 30s 592us/step - loss: 0.8167 - accuracy: 0.7335 - val_loss: 1.5002 - val_accuracy: 0.4857\n",
      "Epoch 33/50\n",
      "50000/50000 [==============================] - 29s 577us/step - loss: 0.7969 - accuracy: 0.7403 - val_loss: 1.5208 - val_accuracy: 0.4887\n",
      "Epoch 34/50\n",
      "50000/50000 [==============================] - 28s 561us/step - loss: 0.7782 - accuracy: 0.7488 - val_loss: 1.5258 - val_accuracy: 0.4931\n",
      "Epoch 35/50\n",
      "50000/50000 [==============================] - 16s 325us/step - loss: 0.7565 - accuracy: 0.7568 - val_loss: 1.5315 - val_accuracy: 0.4878\n",
      "Epoch 36/50\n",
      "50000/50000 [==============================] - 29s 576us/step - loss: 0.7395 - accuracy: 0.7652 - val_loss: 1.5518 - val_accuracy: 0.4902\n",
      "Epoch 37/50\n",
      "50000/50000 [==============================] - 29s 589us/step - loss: 0.7171 - accuracy: 0.7729 - val_loss: 1.5412 - val_accuracy: 0.4938\n",
      "Epoch 38/50\n",
      "50000/50000 [==============================] - 29s 585us/step - loss: 0.7001 - accuracy: 0.7799 - val_loss: 1.5697 - val_accuracy: 0.4871\n",
      "Epoch 39/50\n",
      "50000/50000 [==============================] - 29s 585us/step - loss: 0.6806 - accuracy: 0.7877 - val_loss: 1.5791 - val_accuracy: 0.4844\n",
      "Epoch 40/50\n",
      "50000/50000 [==============================] - 29s 582us/step - loss: 0.6606 - accuracy: 0.7960 - val_loss: 1.5902 - val_accuracy: 0.4878\n",
      "Epoch 41/50\n",
      "50000/50000 [==============================] - 29s 588us/step - loss: 0.6452 - accuracy: 0.8023 - val_loss: 1.5802 - val_accuracy: 0.4911\n",
      "Epoch 42/50\n",
      "50000/50000 [==============================] - 29s 585us/step - loss: 0.6250 - accuracy: 0.8103 - val_loss: 1.5956 - val_accuracy: 0.4920\n",
      "Epoch 43/50\n",
      "50000/50000 [==============================] - 30s 595us/step - loss: 0.6089 - accuracy: 0.8182 - val_loss: 1.6098 - val_accuracy: 0.4897\n",
      "Epoch 44/50\n",
      "50000/50000 [==============================] - 30s 591us/step - loss: 0.5899 - accuracy: 0.8236 - val_loss: 1.6395 - val_accuracy: 0.4878\n",
      "Epoch 45/50\n",
      "50000/50000 [==============================] - 29s 587us/step - loss: 0.5707 - accuracy: 0.8317 - val_loss: 1.6279 - val_accuracy: 0.4832\n"
     ]
    },
    {
     "name": "stdout",
     "output_type": "stream",
     "text": [
      "Epoch 46/50\n",
      "50000/50000 [==============================] - 30s 595us/step - loss: 0.5545 - accuracy: 0.8384 - val_loss: 1.6507 - val_accuracy: 0.4849\n",
      "Epoch 47/50\n",
      "50000/50000 [==============================] - 29s 589us/step - loss: 0.5363 - accuracy: 0.8460 - val_loss: 1.6488 - val_accuracy: 0.4897\n",
      "Epoch 48/50\n",
      "50000/50000 [==============================] - 29s 574us/step - loss: 0.5222 - accuracy: 0.8505 - val_loss: 1.6822 - val_accuracy: 0.4838\n",
      "Epoch 49/50\n",
      "50000/50000 [==============================] - 30s 591us/step - loss: 0.5037 - accuracy: 0.8579 - val_loss: 1.6825 - val_accuracy: 0.4807\n",
      "Epoch 50/50\n",
      "50000/50000 [==============================] - 29s 584us/step - loss: 0.4877 - accuracy: 0.8642 - val_loss: 1.6930 - val_accuracy: 0.4853\n",
      "10000/10000 [==============================] - 5s 491us/step\n"
     ]
    }
   ],
   "source": [
    "model = build_mlp(input_shape=x_train.shape[1:])\n",
    "model.summary()\n",
    "optimizer = keras.optimizers.SGD(lr=LEARNING_RATE, nesterov=True, momentum=MOMENTUM)\n",
    "model.compile(loss=\"categorical_crossentropy\", metrics=[\"accuracy\"], optimizer=optimizer)\n",
    "\n",
    "model.fit(x_train, y_train, \n",
    "          epochs=EPOCHS, \n",
    "          batch_size=BATCH_SIZE, \n",
    "          validation_data=(x_test, y_test), \n",
    "          shuffle=True,\n",
    "          callbacks=[model_ckpt]\n",
    "         )\n",
    "\n",
    "# Collect results\n",
    "train_loss = model.history.history[\"loss\"]\n",
    "valid_loss = model.history.history[\"val_loss\"]\n",
    "train_acc = model.history.history[\"accuracy\"]\n",
    "valid_acc = model.history.history[\"val_accuracy\"]\n",
    "\n",
    "# Load back\n",
    "model = keras.models.load_model(\"./tmp.h5\")\n",
    "loss_loadback, acc_loadback = model.evaluate(x_test, y_test)"
   ]
  },
  {
   "cell_type": "code",
   "execution_count": 12,
   "metadata": {},
   "outputs": [
    {
     "data": {
      "image/png": "[encoded data removed]",
      "text/plain": [
       "<Figure size 432x288 with 1 Axes>"
      ]
     },
     "metadata": {
      "needs_background": "light"
     },
     "output_type": "display_data"
    },
    {
     "data": {
      "image/png": "[encoded data removed]",
      "text/plain": [
       "<Figure size 432x288 with 1 Axes>"
      ]
     },
     "metadata": {
      "needs_background": "light"
     },
     "output_type": "display_data"
    }
   ],
   "source": [
    "import matplotlib.pyplot as plt\n",
    "%matplotlib inline\n",
    "\n",
    "plt.plot(range(len(train_loss)), train_loss, label=\"train loss\")\n",
    "plt.plot(range(len(valid_loss)), valid_loss, label=\"valid loss\")\n",
    "plt.hlines(y=loss_loadback, xmin=0, xmax=len(train_loss), colors='r', linestyles='--')\n",
    "plt.legend()\n",
    "plt.title(\"Loss: no save_best_only=False\")\n",
    "plt.show()\n",
    "\n",
    "plt.plot(range(len(train_acc)), train_acc, label=\"train accuracy\")\n",
    "plt.plot(range(len(valid_acc)), valid_acc, label=\"valid accuracy\")\n",
    "plt.hlines(y=acc_loadback, xmin=0, xmax=len(train_loss), colors='r', linestyles='--')\n",
    "plt.legend()\n",
    "plt.title(\"Accuracy:no save_best_only=False\")\n",
    "plt.show()"
   ]
  },
  {
   "cell_type": "markdown",
   "metadata": {},
   "source": [
    "## save_weights_only=True"
   ]
  },
  {
   "cell_type": "code",
   "execution_count": 13,
   "metadata": {},
   "outputs": [],
   "source": [
    "from keras.callbacks import ModelCheckpoint\n",
    "\n",
    "model_ckpt = ModelCheckpoint(filepath=\"./tmp.h5\", \n",
    "                             monitor=\"val_loss\",\n",
    "                             save_weights_only=True)"
   ]
  },
  {
   "cell_type": "code",
   "execution_count": 14,
   "metadata": {},
   "outputs": [
    {
     "name": "stdout",
     "output_type": "stream",
     "text": [
      "Model: \"model_3\"\n",
      "_________________________________________________________________\n",
      "Layer (type)                 Output Shape              Param #   \n",
      "=================================================================\n",
      "input_3 (InputLayer)         (None, 3072)              0         \n",
      "_________________________________________________________________\n",
      "hidden_layer1 (Dense)        (None, 512)               1573376   \n",
      "_________________________________________________________________\n",
      "batch_normalization_7 (Batch (None, 512)               2048      \n",
      "_________________________________________________________________\n",
      "hidden_layer2 (Dense)        (None, 256)               131328    \n",
      "_________________________________________________________________\n",
      "batch_normalization_8 (Batch (None, 256)               1024      \n",
      "_________________________________________________________________\n",
      "hidden_layer3 (Dense)        (None, 128)               32896     \n",
      "_________________________________________________________________\n",
      "batch_normalization_9 (Batch (None, 128)               512       \n",
      "_________________________________________________________________\n",
      "output (Dense)               (None, 10)                1290      \n",
      "=================================================================\n",
      "Total params: 1,742,474\n",
      "Trainable params: 1,740,682\n",
      "Non-trainable params: 1,792\n",
      "_________________________________________________________________\n",
      "Train on 50000 samples, validate on 10000 samples\n",
      "Epoch 1/50\n",
      "50000/50000 [==============================] - 34s 677us/step - loss: 2.1829 - accuracy: 0.2748 - val_loss: 2.1652 - val_accuracy: 0.2022\n",
      "Epoch 2/50\n",
      "50000/50000 [==============================] - 30s 595us/step - loss: 1.7326 - accuracy: 0.3990 - val_loss: 1.9740 - val_accuracy: 0.3024\n",
      "Epoch 3/50\n",
      "50000/50000 [==============================] - 30s 603us/step - loss: 1.6124 - accuracy: 0.4364 - val_loss: 1.8212 - val_accuracy: 0.3784\n",
      "Epoch 4/50\n",
      "50000/50000 [==============================] - 29s 588us/step - loss: 1.5409 - accuracy: 0.4615 - val_loss: 1.7166 - val_accuracy: 0.4068\n",
      "Epoch 5/50\n",
      "50000/50000 [==============================] - 30s 609us/step - loss: 1.4877 - accuracy: 0.4813 - val_loss: 1.6347 - val_accuracy: 0.4322\n",
      "Epoch 6/50\n",
      "50000/50000 [==============================] - 30s 595us/step - loss: 1.4421 - accuracy: 0.4966 - val_loss: 1.5778 - val_accuracy: 0.4500\n",
      "Epoch 7/50\n",
      "50000/50000 [==============================] - 30s 591us/step - loss: 1.4035 - accuracy: 0.5109 - val_loss: 1.5452 - val_accuracy: 0.4621\n",
      "Epoch 8/50\n",
      "50000/50000 [==============================] - 30s 596us/step - loss: 1.3705 - accuracy: 0.5225 - val_loss: 1.5224 - val_accuracy: 0.4656\n",
      "Epoch 9/50\n",
      "50000/50000 [==============================] - 30s 603us/step - loss: 1.3382 - accuracy: 0.5355 - val_loss: 1.5162 - val_accuracy: 0.4696\n",
      "Epoch 10/50\n",
      "50000/50000 [==============================] - 31s 614us/step - loss: 1.3078 - accuracy: 0.5447 - val_loss: 1.4924 - val_accuracy: 0.4735\n",
      "Epoch 11/50\n",
      "50000/50000 [==============================] - 31s 629us/step - loss: 1.2792 - accuracy: 0.5579 - val_loss: 1.4889 - val_accuracy: 0.4761\n",
      "Epoch 12/50\n",
      "50000/50000 [==============================] - 31s 628us/step - loss: 1.2515 - accuracy: 0.5672 - val_loss: 1.4858 - val_accuracy: 0.4797\n",
      "Epoch 13/50\n",
      "50000/50000 [==============================] - 32s 648us/step - loss: 1.2247 - accuracy: 0.5795 - val_loss: 1.4875 - val_accuracy: 0.4778\n",
      "Epoch 14/50\n",
      "50000/50000 [==============================] - 31s 616us/step - loss: 1.2002 - accuracy: 0.5885 - val_loss: 1.4723 - val_accuracy: 0.4870\n",
      "Epoch 15/50\n",
      "50000/50000 [==============================] - 30s 603us/step - loss: 1.1771 - accuracy: 0.5965 - val_loss: 1.4697 - val_accuracy: 0.4868\n",
      "Epoch 16/50\n",
      "50000/50000 [==============================] - 30s 592us/step - loss: 1.1516 - accuracy: 0.6069 - val_loss: 1.4797 - val_accuracy: 0.4837\n",
      "Epoch 17/50\n",
      "50000/50000 [==============================] - 30s 604us/step - loss: 1.1301 - accuracy: 0.6150 - val_loss: 1.4829 - val_accuracy: 0.4827\n",
      "Epoch 18/50\n",
      "50000/50000 [==============================] - 30s 601us/step - loss: 1.1060 - accuracy: 0.6238 - val_loss: 1.4657 - val_accuracy: 0.4857\n",
      "Epoch 19/50\n",
      "50000/50000 [==============================] - 31s 612us/step - loss: 1.0840 - accuracy: 0.6326 - val_loss: 1.4664 - val_accuracy: 0.4878\n",
      "Epoch 20/50\n",
      "50000/50000 [==============================] - 30s 592us/step - loss: 1.0610 - accuracy: 0.6413 - val_loss: 1.4695 - val_accuracy: 0.4914\n",
      "Epoch 21/50\n",
      "50000/50000 [==============================] - 30s 604us/step - loss: 1.0401 - accuracy: 0.6508 - val_loss: 1.4661 - val_accuracy: 0.4967\n",
      "Epoch 22/50\n",
      "50000/50000 [==============================] - 30s 596us/step - loss: 1.0185 - accuracy: 0.6572 - val_loss: 1.4695 - val_accuracy: 0.4941\n",
      "Epoch 23/50\n",
      "50000/50000 [==============================] - 29s 588us/step - loss: 0.9975 - accuracy: 0.6655 - val_loss: 1.4790 - val_accuracy: 0.4877\n",
      "Epoch 24/50\n",
      "50000/50000 [==============================] - 30s 596us/step - loss: 0.9770 - accuracy: 0.6735 - val_loss: 1.4716 - val_accuracy: 0.4892\n",
      "Epoch 25/50\n",
      "50000/50000 [==============================] - 30s 606us/step - loss: 0.9563 - accuracy: 0.6807 - val_loss: 1.4836 - val_accuracy: 0.4893\n",
      "Epoch 26/50\n",
      "50000/50000 [==============================] - 29s 589us/step - loss: 0.9355 - accuracy: 0.6889 - val_loss: 1.4782 - val_accuracy: 0.4916\n",
      "Epoch 27/50\n",
      "50000/50000 [==============================] - 31s 624us/step - loss: 0.9148 - accuracy: 0.6971 - val_loss: 1.4942 - val_accuracy: 0.4873\n",
      "Epoch 28/50\n",
      "50000/50000 [==============================] - 30s 602us/step - loss: 0.8950 - accuracy: 0.7042 - val_loss: 1.4958 - val_accuracy: 0.4965\n",
      "Epoch 29/50\n",
      "50000/50000 [==============================] - 30s 592us/step - loss: 0.8753 - accuracy: 0.7113 - val_loss: 1.5000 - val_accuracy: 0.4918\n",
      "Epoch 30/50\n",
      "50000/50000 [==============================] - 30s 602us/step - loss: 0.8532 - accuracy: 0.7220 - val_loss: 1.5059 - val_accuracy: 0.4920\n",
      "Epoch 31/50\n",
      "50000/50000 [==============================] - 30s 591us/step - loss: 0.8339 - accuracy: 0.7282 - val_loss: 1.5084 - val_accuracy: 0.4929\n",
      "Epoch 32/50\n",
      "50000/50000 [==============================] - 30s 599us/step - loss: 0.8150 - accuracy: 0.7360 - val_loss: 1.5081 - val_accuracy: 0.4947\n",
      "Epoch 33/50\n",
      "50000/50000 [==============================] - 31s 612us/step - loss: 0.7934 - accuracy: 0.7442 - val_loss: 1.5187 - val_accuracy: 0.4934\n",
      "Epoch 34/50\n",
      "50000/50000 [==============================] - 30s 603us/step - loss: 0.7755 - accuracy: 0.7521 - val_loss: 1.5280 - val_accuracy: 0.4952\n",
      "Epoch 35/50\n",
      "50000/50000 [==============================] - 30s 600us/step - loss: 0.7566 - accuracy: 0.7582 - val_loss: 1.5375 - val_accuracy: 0.4901\n",
      "Epoch 36/50\n",
      "50000/50000 [==============================] - 31s 620us/step - loss: 0.7372 - accuracy: 0.7657 - val_loss: 1.5387 - val_accuracy: 0.4954\n",
      "Epoch 37/50\n",
      "50000/50000 [==============================] - 31s 619us/step - loss: 0.7182 - accuracy: 0.7735 - val_loss: 1.5518 - val_accuracy: 0.4968\n",
      "Epoch 38/50\n",
      "50000/50000 [==============================] - 30s 596us/step - loss: 0.6992 - accuracy: 0.7822 - val_loss: 1.5663 - val_accuracy: 0.4936\n",
      "Epoch 39/50\n",
      "50000/50000 [==============================] - 31s 612us/step - loss: 0.6806 - accuracy: 0.7889 - val_loss: 1.5718 - val_accuracy: 0.4901\n",
      "Epoch 40/50\n",
      "50000/50000 [==============================] - 30s 598us/step - loss: 0.6606 - accuracy: 0.7957 - val_loss: 1.5738 - val_accuracy: 0.4921\n",
      "Epoch 41/50\n",
      "50000/50000 [==============================] - 30s 594us/step - loss: 0.6442 - accuracy: 0.8035 - val_loss: 1.6153 - val_accuracy: 0.4851\n",
      "Epoch 42/50\n",
      "50000/50000 [==============================] - 30s 600us/step - loss: 0.6260 - accuracy: 0.8107 - val_loss: 1.5954 - val_accuracy: 0.4941\n",
      "Epoch 43/50\n",
      "50000/50000 [==============================] - 30s 602us/step - loss: 0.6104 - accuracy: 0.8158 - val_loss: 1.6128 - val_accuracy: 0.4906\n",
      "Epoch 44/50\n",
      "50000/50000 [==============================] - 30s 594us/step - loss: 0.5904 - accuracy: 0.8263 - val_loss: 1.6293 - val_accuracy: 0.4910\n",
      "Epoch 45/50\n",
      "50000/50000 [==============================] - 31s 614us/step - loss: 0.5735 - accuracy: 0.8310 - val_loss: 1.6348 - val_accuracy: 0.4921\n"
     ]
    },
    {
     "name": "stdout",
     "output_type": "stream",
     "text": [
      "Epoch 46/50\n",
      "50000/50000 [==============================] - 30s 602us/step - loss: 0.5555 - accuracy: 0.8375 - val_loss: 1.6445 - val_accuracy: 0.4911\n",
      "Epoch 47/50\n",
      "50000/50000 [==============================] - 29s 582us/step - loss: 0.5378 - accuracy: 0.8445 - val_loss: 1.6674 - val_accuracy: 0.4868\n",
      "Epoch 48/50\n",
      "50000/50000 [==============================] - 30s 604us/step - loss: 0.5222 - accuracy: 0.8514 - val_loss: 1.6840 - val_accuracy: 0.4958\n",
      "Epoch 49/50\n",
      "50000/50000 [==============================] - 30s 601us/step - loss: 0.5062 - accuracy: 0.8574 - val_loss: 1.6826 - val_accuracy: 0.4852\n",
      "Epoch 50/50\n",
      "50000/50000 [==============================] - 29s 583us/step - loss: 0.4880 - accuracy: 0.8643 - val_loss: 1.6915 - val_accuracy: 0.4867\n"
     ]
    }
   ],
   "source": [
    "model = build_mlp(input_shape=x_train.shape[1:])\n",
    "model.summary()\n",
    "optimizer = keras.optimizers.SGD(lr=LEARNING_RATE, nesterov=True, momentum=MOMENTUM)\n",
    "model.compile(loss=\"categorical_crossentropy\", metrics=[\"accuracy\"], optimizer=optimizer)\n",
    "\n",
    "model.fit(x_train, y_train, \n",
    "          epochs=EPOCHS, \n",
    "          batch_size=BATCH_SIZE, \n",
    "          validation_data=(x_test, y_test), \n",
    "          shuffle=True,\n",
    "          callbacks=[model_ckpt]\n",
    "         )\n",
    "\n",
    "# Collect results\n",
    "train_loss = model.history.history[\"loss\"]\n",
    "valid_loss = model.history.history[\"val_loss\"]\n",
    "train_acc = model.history.history[\"accuracy\"]\n",
    "valid_acc = model.history.history[\"val_accuracy\"]\n",
    "\n",
    "# Load back\n",
    "#model = keras.models.load_model(\"./tmp.h5\")\n",
    "#loss_loadback, acc_loadback = model.evaluate(x_test, y_test)"
   ]
  },
  {
   "cell_type": "code",
   "execution_count": 15,
   "metadata": {},
   "outputs": [
    {
     "data": {
      "image/png": "[encoded data removed]",
      "text/plain": [
       "<Figure size 432x288 with 1 Axes>"
      ]
     },
     "metadata": {
      "needs_background": "light"
     },
     "output_type": "display_data"
    },
    {
     "data": {
      "image/png": "[encoded data removed]",
      "text/plain": [
       "<Figure size 432x288 with 1 Axes>"
      ]
     },
     "metadata": {
      "needs_background": "light"
     },
     "output_type": "display_data"
    }
   ],
   "source": [
    "import matplotlib.pyplot as plt\n",
    "%matplotlib inline\n",
    "\n",
    "plt.plot(range(len(train_loss)), train_loss, label=\"train loss\")\n",
    "plt.plot(range(len(valid_loss)), valid_loss, label=\"valid loss\")\n",
    "plt.hlines(y=loss_loadback, xmin=0, xmax=len(train_loss), colors='r', linestyles='--')\n",
    "plt.legend()\n",
    "plt.title(\"Loss: save_weights_only=True\")\n",
    "plt.show()\n",
    "\n",
    "plt.plot(range(len(train_acc)), train_acc, label=\"train accuracy\")\n",
    "plt.plot(range(len(valid_acc)), valid_acc, label=\"valid accuracy\")\n",
    "plt.hlines(y=acc_loadback, xmin=0, xmax=len(train_loss), colors='r', linestyles='--')\n",
    "plt.legend()\n",
    "plt.title(\"Accuracy: save_weights_only=True\")\n",
    "plt.show()"
   ]
  },
  {
   "cell_type": "code",
   "execution_count": null,
   "metadata": {},
   "outputs": [],
   "source": []
  }
 ],
 "metadata": {
  "kernelspec": {
   "display_name": "Python 3",
   "language": "python",
   "name": "python3"
  },
  "language_info": {
   "codemirror_mode": {
    "name": "ipython",
    "version": 3
   },
   "file_extension": ".py",
   "mimetype": "text/x-python",
   "name": "python",
   "nbconvert_exporter": "python",
   "pygments_lexer": "ipython3",
   "version": "3.7.3"
  }
 },
 "nbformat": 4,
 "nbformat_minor": 2
}
