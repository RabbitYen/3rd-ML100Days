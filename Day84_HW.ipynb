{
 "cells": [
  {
   "cell_type": "markdown",
   "metadata": {},
   "source": [
    "## Work\n",
    "### 請結合前面的知識與程式碼，比較不同的 regularization 的組合對訓練的結果與影響：如 dropout, regularizers, batch-normalization 等"
   ]
  },
  {
   "cell_type": "code",
   "execution_count": 1,
   "metadata": {},
   "outputs": [
    {
     "name": "stderr",
     "output_type": "stream",
     "text": [
      "Using TensorFlow backend.\n"
     ]
    }
   ],
   "source": [
    "import os\n",
    "import keras\n",
    "import itertools\n",
    "# Disable GPU\n",
    "os.environ[\"CUDA_VISIBLE_DEVICES\"] = \"\""
   ]
  },
  {
   "cell_type": "code",
   "execution_count": 2,
   "metadata": {},
   "outputs": [],
   "source": [
    "train, test = keras.datasets.cifar10.load_data()"
   ]
  },
  {
   "cell_type": "code",
   "execution_count": 3,
   "metadata": {},
   "outputs": [],
   "source": [
    "## 資料前處理\n",
    "def preproc_x(x, flatten=True):\n",
    "    x = x / 255.\n",
    "    if flatten:\n",
    "        x = x.reshape((len(x), -1))\n",
    "    return x\n",
    "\n",
    "def preproc_y(y, num_classes=10):\n",
    "    if y.shape[-1] == 1:\n",
    "        y = keras.utils.to_categorical(y, num_classes)\n",
    "    return y    "
   ]
  },
  {
   "cell_type": "code",
   "execution_count": 4,
   "metadata": {},
   "outputs": [],
   "source": [
    "x_train, y_train = train\n",
    "x_test, y_test = test\n",
    "\n",
    "# Preproc the inputs\n",
    "x_train = preproc_x(x_train)\n",
    "x_test = preproc_x(x_test)\n",
    "\n",
    "# Preprc the outputs\n",
    "y_train = preproc_y(y_train)\n",
    "y_test = preproc_y(y_test)"
   ]
  },
  {
   "cell_type": "code",
   "execution_count": 5,
   "metadata": {},
   "outputs": [],
   "source": [
    "from keras.regularizers import l1_l2\n",
    "from keras.layers import Dropout\n",
    "from keras.layers import BatchNormalization\n",
    "    \n",
    "#建立你的神經網路\n",
    "def  build_mlp(input_shape, output_units=10, num_neurons=[512, 256, 128], l1_l2_ratio=1e-4, drp_ratio=0.2):\n",
    "    input_layer = keras.layers.Input(input_shape)\n",
    "    \n",
    "    for i, n_units in enumerate(num_neurons):\n",
    "        if i == 0:\n",
    "            x = keras.layers.Dense(units=n_units, \n",
    "                                   activation=\"relu\", \n",
    "                                   name=\"hidden_layer\"+str(i+1),\n",
    "                                   kernel_regularizer=l1_l2(l1_l2_ratio))(input_layer)\n",
    "            x = BatchNormalization()(x)\n",
    "            x = Dropout(drp_ratio)(x)\n",
    "        else:\n",
    "            x = keras.layers.Dense(units=n_units, \n",
    "                                   activation=\"relu\", \n",
    "                                   name=\"hidden_layer\"+str(i+1),\n",
    "                                   kernel_regularizer=l1_l2(l1_l2_ratio))(x)\n",
    "            x = BatchNormalization()(x)\n",
    "            x = Dropout(drp_ratio)(x)\n",
    "    \n",
    "    out = keras.layers.Dense(units=output_units, activation=\"softmax\", name=\"output\")(x)\n",
    "    \n",
    "    model = keras.models.Model(inputs=[input_layer], outputs=[out])\n",
    "    return model"
   ]
  },
  {
   "cell_type": "code",
   "execution_count": 6,
   "metadata": {},
   "outputs": [],
   "source": [
    "#設定超參數\n",
    "LEARNING_RATE = 1e-3\n",
    "EPOCHS = 50\n",
    "BATCH_SIZE = 256\n",
    "MOMENTUM = 0.95"
   ]
  },
  {
   "cell_type": "code",
   "execution_count": 7,
   "metadata": {
    "scrolled": true
   },
   "outputs": [
    {
     "name": "stdout",
     "output_type": "stream",
     "text": [
      "Model: \"model_1\"\n",
      "_________________________________________________________________\n",
      "Layer (type)                 Output Shape              Param #   \n",
      "=================================================================\n",
      "input_1 (InputLayer)         (None, 3072)              0         \n",
      "_________________________________________________________________\n",
      "hidden_layer1 (Dense)        (None, 512)               1573376   \n",
      "_________________________________________________________________\n",
      "batch_normalization_1 (Batch (None, 512)               2048      \n",
      "_________________________________________________________________\n",
      "dropout_1 (Dropout)          (None, 512)               0         \n",
      "_________________________________________________________________\n",
      "hidden_layer2 (Dense)        (None, 256)               131328    \n",
      "_________________________________________________________________\n",
      "batch_normalization_2 (Batch (None, 256)               1024      \n",
      "_________________________________________________________________\n",
      "dropout_2 (Dropout)          (None, 256)               0         \n",
      "_________________________________________________________________\n",
      "hidden_layer3 (Dense)        (None, 128)               32896     \n",
      "_________________________________________________________________\n",
      "batch_normalization_3 (Batch (None, 128)               512       \n",
      "_________________________________________________________________\n",
      "dropout_3 (Dropout)          (None, 128)               0         \n",
      "_________________________________________________________________\n",
      "output (Dense)               (None, 10)                1290      \n",
      "=================================================================\n",
      "Total params: 1,742,474\n",
      "Trainable params: 1,740,682\n",
      "Non-trainable params: 1,792\n",
      "_________________________________________________________________\n",
      "Train on 50000 samples, validate on 10000 samples\n",
      "Epoch 1/50\n",
      "50000/50000 [==============================] - 50s 1ms/step - loss: 18.9538 - accuracy: 0.2874 - val_loss: 17.3189 - val_accuracy: 0.3608\n",
      "Epoch 2/50\n",
      "50000/50000 [==============================] - 43s 862us/step - loss: 16.1374 - accuracy: 0.3643 - val_loss: 14.8678 - val_accuracy: 0.3952\n",
      "Epoch 3/50\n",
      "50000/50000 [==============================] - 37s 746us/step - loss: 13.8758 - accuracy: 0.3988 - val_loss: 12.8556 - val_accuracy: 0.4140\n",
      "Epoch 4/50\n",
      "50000/50000 [==============================] - 44s 886us/step - loss: 11.9859 - accuracy: 0.4169 - val_loss: 11.0986 - val_accuracy: 0.4425\n",
      "Epoch 5/50\n",
      "50000/50000 [==============================] - 50s 991us/step - loss: 10.3792 - accuracy: 0.4354 - val_loss: 9.6337 - val_accuracy: 0.4483\n",
      "Epoch 6/50\n",
      "50000/50000 [==============================] - 43s 859us/step - loss: 9.0095 - accuracy: 0.4445 - val_loss: 8.4632 - val_accuracy: 0.4261\n",
      "Epoch 7/50\n",
      "50000/50000 [==============================] - 44s 885us/step - loss: 7.8456 - accuracy: 0.4544 - val_loss: 7.3547 - val_accuracy: 0.4567\n",
      "Epoch 8/50\n",
      "50000/50000 [==============================] - 41s 813us/step - loss: 6.8633 - accuracy: 0.4612 - val_loss: 6.4380 - val_accuracy: 0.4583\n",
      "Epoch 9/50\n",
      "50000/50000 [==============================] - 39s 774us/step - loss: 6.0297 - accuracy: 0.4658 - val_loss: 5.8310 - val_accuracy: 0.3948\n",
      "Epoch 10/50\n",
      "50000/50000 [==============================] - 36s 725us/step - loss: 5.3257 - accuracy: 0.4652 - val_loss: 5.1120 - val_accuracy: 0.4222\n",
      "Epoch 11/50\n",
      "50000/50000 [==============================] - 37s 745us/step - loss: 4.7241 - accuracy: 0.4654 - val_loss: 4.7373 - val_accuracy: 0.3716\n",
      "Epoch 12/50\n",
      "50000/50000 [==============================] - 37s 743us/step - loss: 3.1088 - accuracy: 0.4705 - val_loss: 3.7948 - val_accuracy: 0.2270\n",
      "Epoch 16/50\n",
      "50000/50000 [==============================] - 38s 755us/step - loss: 2.8221 - accuracy: 0.4829 - val_loss: 2.8970 - val_accuracy: 0.4158\n",
      "Epoch 17/50\n",
      "50000/50000 [==============================] - 37s 747us/step - loss: 1.9247 - accuracy: 0.4924 - val_loss: 2.0953 - val_accuracy: 0.4094\n",
      "Epoch 23/50\n",
      "50000/50000 [==============================] - 38s 766us/step - loss: 1.8554 - accuracy: 0.4920 - val_loss: 2.0410 - val_accuracy: 0.403469 - ac - ETA: 3s - loss: - ETA: 1s - loss: 1.8560 \n",
      "Epoch 24/50\n",
      "50000/50000 [==============================] - 39s 777us/step - loss: 1.7994 - accuracy: 0.4897 - val_loss: 1.8843 - val_accuracy: 0.4519\n",
      "Epoch 25/50\n",
      "50000/50000 [==============================] - 38s 763us/step - loss: 1.7445 - accuracy: 0.4927 - val_loss: 1.9509 - val_accuracy: 0.4125\n",
      "Epoch 26/50\n",
      "50000/50000 [==============================] - 38s 762us/step - loss: 1.7037 - accuracy: 0.4958 - val_loss: 1.7920 - val_accuracy: 0.4598\n",
      "Epoch 27/50\n",
      "50000/50000 [==============================] - 38s 761us/step - loss: 1.6846 - accuracy: 0.4927 - val_loss: 2.3292 - val_accuracy: 0.3040\n",
      "Epoch 28/50\n",
      "50000/50000 [==============================] - 41s 814us/step - loss: 1.6364 - accuracy: 0.5011 - val_loss: 1.8856 - val_accuracy: 0.4050\n",
      "Epoch 32/50\n",
      "50000/50000 [==============================] - 42s 844us/step - loss: 1.6319 - accuracy: 0.4991 - val_loss: 1.8104 - val_accuracy: 0.4389\n",
      "Epoch 33/50\n",
      "50000/50000 [==============================] - 41s 827us/step - loss: 1.6199 - accuracy: 0.5039 - val_loss: 2.1012 - val_accuracy: 0.3360\n",
      "Epoch 34/50\n",
      "50000/50000 [==============================] - 40s 801us/step - loss: 1.6328 - accuracy: 0.5000 - val_loss: 1.9823 - val_accuracy: 0.3760\n",
      "Epoch 35/50\n",
      "50000/50000 [==============================] - 35s 699us/step - loss: 1.6301 - accuracy: 0.4980 - val_loss: 2.0252 - val_accuracy: 0.3970\n",
      "Epoch 36/50\n",
      "50000/50000 [==============================] - 35s 695us/step - loss: 1.6278 - accuracy: 0.4991 - val_loss: 1.7519 - val_accuracy: 0.4510\n",
      "Epoch 37/50\n",
      "50000/50000 [==============================] - 35s 704us/step - loss: 1.6128 - accuracy: 0.5038 - val_loss: 1.8061 - val_accuracy: 0.4398\n",
      "Epoch 38/50\n",
      "50000/50000 [==============================] - 36s 726us/step - loss: 1.6180 - accuracy: 0.5011 - val_loss: 1.9647 - val_accuracy: 0.3980\n",
      "Epoch 39/50\n",
      "50000/50000 [==============================] - 35s 701us/step - loss: 1.6062 - accuracy: 0.5059 - val_loss: 1.8626 - val_accuracy: 0.4015\n",
      "Epoch 44/50\n",
      "50000/50000 [==============================] - 34s 670us/step - loss: 1.6050 - accuracy: 0.5083 - val_loss: 2.3379 - val_accuracy: 0.3048\n",
      "Epoch 45/50\n",
      "50000/50000 [==============================] - 35s 700us/step - loss: 1.6132 - accuracy: 0.5027 - val_loss: 1.8837 - val_accuracy: 0.4123\n",
      "Epoch 46/50\n",
      "50000/50000 [==============================] - 34s 689us/step - loss: 1.6042 - accuracy: 0.5069 - val_loss: 1.6813 - val_accuracy: 0.4767\n",
      "Epoch 47/50\n",
      "50000/50000 [==============================] - 36s 719us/step - loss: 1.6015 - accuracy: 0.5073 - val_loss: 2.1908 - val_accuracy: 0.3330\n",
      "Epoch 48/50\n",
      "50000/50000 [==============================] - 35s 703us/step - loss: 1.6015 - accuracy: 0.5080 - val_loss: 1.9073 - val_accuracy: 0.4029\n",
      "Epoch 49/50\n",
      "50000/50000 [==============================] - 38s 757us/step - loss: 1.5897 - accuracy: 0.5132 - val_loss: 1.8569 - val_accuracy: 0.4088\n",
      "Epoch 50/50\n",
      "50000/50000 [==============================] - 39s 783us/step - loss: 1.5849 - accuracy: 0.5150 - val_loss: 2.0272 - val_accuracy: 0.4009\n"
     ]
    }
   ],
   "source": [
    "results = {}\n",
    "#撰寫你的訓練流程並將結果用 dictionary 紀錄\n",
    "model = build_mlp(input_shape=x_train.shape[1:])\n",
    "model.summary()\n",
    "optimizer = keras.optimizers.SGD(lr=LEARNING_RATE, nesterov=True, momentum=MOMENTUM)\n",
    "model.compile(loss=\"categorical_crossentropy\", metrics=[\"accuracy\"], optimizer=optimizer)\n",
    "\n",
    "model.fit(x_train, y_train, \n",
    "          epochs=EPOCHS, \n",
    "          batch_size=BATCH_SIZE, \n",
    "          validation_data=(x_test, y_test))\n",
    "\n",
    "# Collect results\n",
    "train_loss = model.history.history[\"loss\"]\n",
    "valid_loss = model.history.history[\"val_loss\"]\n",
    "train_acc = model.history.history[\"accuracy\"]\n",
    "valid_acc = model.history.history[\"val_accuracy\"]"
   ]
  },
  {
   "cell_type": "code",
   "execution_count": 8,
   "metadata": {},
   "outputs": [
    {
     "data": {
      "image/png": "[encoded data removed]",
      "text/plain": [
       "<Figure size 432x288 with 1 Axes>"
      ]
     },
     "metadata": {
      "needs_background": "light"
     },
     "output_type": "display_data"
    },
    {
     "data": {
      "image/png": "[encoded data removed]",
      "text/plain": [
       "<Figure size 432x288 with 1 Axes>"
      ]
     },
     "metadata": {
      "needs_background": "light"
     },
     "output_type": "display_data"
    }
   ],
   "source": [
    "import matplotlib.pyplot as plt\n",
    "%matplotlib inline\n",
    "\"\"\"Code Here\n",
    "將結果繪出\n",
    "\"\"\"\n",
    "plt.plot(range(len(train_loss)), train_loss, label=\"train loss\")\n",
    "plt.plot(range(len(valid_loss)), valid_loss, label=\"valid loss\")\n",
    "plt.legend()\n",
    "plt.title(\"Loss\")\n",
    "plt.show()\n",
    "\n",
    "plt.plot(range(len(train_acc)), train_acc, label=\"train accuracy\")\n",
    "plt.plot(range(len(valid_acc)), valid_acc, label=\"valid accuracy\")\n",
    "plt.legend()\n",
    "plt.title(\"Accuracy\")\n",
    "plt.show()"
   ]
  },
  {
   "cell_type": "code",
   "execution_count": null,
   "metadata": {},
   "outputs": [],
   "source": []
  }
 ],
 "metadata": {
  "kernelspec": {
   "display_name": "Python 3",
   "language": "python",
   "name": "python3"
  },
  "language_info": {
   "codemirror_mode": {
    "name": "ipython",
    "version": 3
   },
   "file_extension": ".py",
   "mimetype": "text/x-python",
   "name": "python",
   "nbconvert_exporter": "python",
   "pygments_lexer": "ipython3",
   "version": "3.7.3"
  }
 },
 "nbformat": 4,
 "nbformat_minor": 2
}
