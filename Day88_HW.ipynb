{
 "cells": [
  {
   "cell_type": "markdown",
   "metadata": {},
   "source": [
    "## Work\n",
    "1. 請嘗試寫一個 callback 用來記錄各類別在訓練過程中，對驗證集的 True Positive 與 True Negative"
   ]
  },
  {
   "cell_type": "code",
   "execution_count": 1,
   "metadata": {},
   "outputs": [
    {
     "name": "stderr",
     "output_type": "stream",
     "text": [
      "Using TensorFlow backend.\n"
     ]
    }
   ],
   "source": [
    "import os\n",
    "import keras\n",
    "\n",
    "# Disable GPU\n",
    "os.environ[\"CUDA_VISIBLE_DEVICES\"] = \"\""
   ]
  },
  {
   "cell_type": "code",
   "execution_count": 2,
   "metadata": {},
   "outputs": [],
   "source": [
    "train, test = keras.datasets.cifar10.load_data()"
   ]
  },
  {
   "cell_type": "code",
   "execution_count": 3,
   "metadata": {},
   "outputs": [],
   "source": [
    "## 資料前處理\n",
    "def preproc_x(x, flatten=True):\n",
    "    x = x / 255.\n",
    "    if flatten:\n",
    "        x = x.reshape((len(x), -1))\n",
    "    return x\n",
    "\n",
    "def preproc_y(y, num_classes=10):\n",
    "    if y.shape[-1] == 1:\n",
    "        y = keras.utils.to_categorical(y, num_classes)\n",
    "    return y    "
   ]
  },
  {
   "cell_type": "code",
   "execution_count": 4,
   "metadata": {},
   "outputs": [],
   "source": [
    "x_train, y_train = train\n",
    "x_test, y_test = test\n",
    "\n",
    "# Preproc the inputs\n",
    "x_train = preproc_x(x_train)\n",
    "x_test = preproc_x(x_test)\n",
    "\n",
    "# Preprc the outputs\n",
    "y_train = preproc_y(y_train)\n",
    "y_test = preproc_y(y_test)"
   ]
  },
  {
   "cell_type": "code",
   "execution_count": 5,
   "metadata": {},
   "outputs": [],
   "source": [
    "from keras.layers import BatchNormalization\n",
    "def build_mlp(input_shape, output_units=10, num_neurons=[256, 256, 256]):\n",
    "    \"\"\"Code Here\n",
    "    建立你的神經網路\n",
    "    \"\"\"\n",
    "    input_layer = keras.layers.Input(input_shape)\n",
    "    \n",
    "    for i, n_units in enumerate(num_neurons):\n",
    "        if i == 0:\n",
    "            x = keras.layers.Dense(units=n_units, \n",
    "                                   activation=\"relu\", \n",
    "                                   name=\"hidden_layer\"+str(i+1))(input_layer)\n",
    "            x = BatchNormalization()(x)\n",
    "        else:\n",
    "            x = keras.layers.Dense(units=n_units, \n",
    "                                   activation=\"relu\", \n",
    "                                   name=\"hidden_layer\"+str(i+1))(x)\n",
    "            x = BatchNormalization()(x)\n",
    "    \n",
    "    out = keras.layers.Dense(units=output_units, activation=\"softmax\", name=\"output\")(x)\n",
    "    \n",
    "    model = keras.models.Model(inputs=[input_layer], outputs=[out])\n",
    "    return model"
   ]
  },
  {
   "cell_type": "code",
   "execution_count": 6,
   "metadata": {},
   "outputs": [],
   "source": [
    "## 超參數設定\n",
    "LEARNING_RATE = 1e-3\n",
    "EPOCHS = 25\n",
    "BATCH_SIZE = 1024\n",
    "MOMENTUM = 0.95"
   ]
  },
  {
   "cell_type": "code",
   "execution_count": 7,
   "metadata": {},
   "outputs": [],
   "source": [
    "# 載入 Callbacks\n",
    "from keras.callbacks import Callback\n",
    "from sklearn.metrics import confusion_matrix\n",
    "\n",
    "# Record_fp_tp\n",
    "class Record_tp_tn(Callback):\n",
    "    \"\"\"Code Here\n",
    "    撰寫一個紀錄 ture positive 與 true negative 數量的 callbacks    \n",
    "    \"\"\"\n",
    "    def on_train_begin(self, epoch, logs = {}):\n",
    "        logs = logs or {}\n",
    "        record_items = [\"val_auc\", \"val_f1sc\", \"val_fp\", \"val_fn\", \"val_tp\", \"val_tn\"]\n",
    "        for i in record_items:\n",
    "            if i not in self.params['metrics']:\n",
    "                self.params['metrics'].append(i)\n",
    "    \n",
    "    def on_epoch_end(self, epoch, logs = {}, thres=0.5):\n",
    "        logs = logs or {}\n",
    "        y_true = self.validation_data[1].argmax(axis = 1)\n",
    "        y_pred = self.model.predict(self.validation_data[0])\n",
    "        y_pred = (y_pred[:, 1] >= thres) * 1\n",
    "        \n",
    "        logs[\"val_tp\"] = confusion_matrix(y_true, y_pred)[1][1]\n",
    "        logs[\"val_tn\"] = confusion_matrix(y_true, y_pred)[0][0]\n",
    "rec_tptn = Record_tp_tn()"
   ]
  },
  {
   "cell_type": "code",
   "execution_count": 8,
   "metadata": {
    "scrolled": true
   },
   "outputs": [
    {
     "name": "stdout",
     "output_type": "stream",
     "text": [
      "Model: \"model_1\"\n",
      "_________________________________________________________________\n",
      "Layer (type)                 Output Shape              Param #   \n",
      "=================================================================\n",
      "input_1 (InputLayer)         (None, 3072)              0         \n",
      "_________________________________________________________________\n",
      "hidden_layer1 (Dense)        (None, 256)               786688    \n",
      "_________________________________________________________________\n",
      "batch_normalization_1 (Batch (None, 256)               1024      \n",
      "_________________________________________________________________\n",
      "hidden_layer2 (Dense)        (None, 256)               65792     \n",
      "_________________________________________________________________\n",
      "batch_normalization_2 (Batch (None, 256)               1024      \n",
      "_________________________________________________________________\n",
      "hidden_layer3 (Dense)        (None, 256)               65792     \n",
      "_________________________________________________________________\n",
      "batch_normalization_3 (Batch (None, 256)               1024      \n",
      "_________________________________________________________________\n",
      "output (Dense)               (None, 10)                2570      \n",
      "=================================================================\n",
      "Total params: 923,914\n",
      "Trainable params: 922,378\n",
      "Non-trainable params: 1,536\n",
      "_________________________________________________________________\n",
      "Train on 50000 samples, validate on 10000 samples\n",
      "Epoch 1/25\n",
      "50000/50000 [==============================] - 31s 629us/step - loss: 2.2457 - accuracy: 0.2642 - val_loss: 2.1930 - val_accuracy: 0.1520\n",
      "Epoch 2/25\n",
      "50000/50000 [==============================] - 20s 403us/step - loss: 1.7677 - accuracy: 0.3821 - val_loss: 2.0157 - val_accuracy: 0.2726\n",
      "Epoch 3/25\n",
      "50000/50000 [==============================] - 19s 386us/step - loss: 1.6369 - accuracy: 0.4245 - val_loss: 1.8600 - val_accuracy: 0.3548\n",
      "Epoch 4/25\n",
      "50000/50000 [==============================] - 18s 364us/step - loss: 1.5631 - accuracy: 0.4500 - val_loss: 1.7293 - val_accuracy: 0.4018\n",
      "Epoch 5/25\n",
      "50000/50000 [==============================] - 18s 359us/step - loss: 1.5078 - accuracy: 0.4719 - val_loss: 1.6473 - val_accuracy: 0.4235\n",
      "Epoch 6/25\n",
      "50000/50000 [==============================] - 17s 345us/step - loss: 1.4657 - accuracy: 0.4857 - val_loss: 1.5801 - val_accuracy: 0.4478\n",
      "Epoch 7/25\n",
      "50000/50000 [==============================] - 17s 344us/step - loss: 1.4281 - accuracy: 0.4992 - val_loss: 1.5536 - val_accuracy: 0.4534\n",
      "Epoch 8/25\n",
      "50000/50000 [==============================] - 17s 343us/step - loss: 1.3938 - accuracy: 0.5120 - val_loss: 1.5325 - val_accuracy: 0.4563\n",
      "Epoch 9/25\n",
      "50000/50000 [==============================] - 18s 357us/step - loss: 1.3636 - accuracy: 0.5231 - val_loss: 1.5236 - val_accuracy: 0.4605\n",
      "Epoch 10/25\n",
      "50000/50000 [==============================] - 18s 357us/step - loss: 1.3382 - accuracy: 0.5314 - val_loss: 1.5155 - val_accuracy: 0.4713\n",
      "Epoch 11/25\n",
      "50000/50000 [==============================] - 17s 349us/step - loss: 1.3118 - accuracy: 0.5419 - val_loss: 1.4829 - val_accuracy: 0.4740\n",
      "Epoch 12/25\n",
      "50000/50000 [==============================] - 18s 362us/step - loss: 1.2876 - accuracy: 0.5487 - val_loss: 1.4845 - val_accuracy: 0.4819\n",
      "Epoch 13/25\n",
      "50000/50000 [==============================] - 18s 370us/step - loss: 1.2649 - accuracy: 0.5582 - val_loss: 1.4816 - val_accuracy: 0.4789\n",
      "Epoch 14/25\n",
      "50000/50000 [==============================] - 12s 235us/step - loss: 1.2454 - accuracy: 0.5668 - val_loss: 1.4865 - val_accuracy: 0.4800\n",
      "Epoch 15/25\n",
      "50000/50000 [==============================] - 13s 258us/step - loss: 1.2241 - accuracy: 0.5730 - val_loss: 1.4758 - val_accuracy: 0.4830\n",
      "Epoch 16/25\n",
      "50000/50000 [==============================] - 17s 349us/step - loss: 1.2031 - accuracy: 0.5817 - val_loss: 1.4665 - val_accuracy: 0.4882\n",
      "Epoch 17/25\n",
      "50000/50000 [==============================] - 18s 356us/step - loss: 1.1844 - accuracy: 0.5895 - val_loss: 1.4679 - val_accuracy: 0.4878\n",
      "Epoch 18/25\n",
      "50000/50000 [==============================] - 17s 344us/step - loss: 1.1650 - accuracy: 0.5962 - val_loss: 1.4644 - val_accuracy: 0.4903\n",
      "Epoch 19/25\n",
      "50000/50000 [==============================] - 17s 346us/step - loss: 1.1481 - accuracy: 0.6018 - val_loss: 1.4584 - val_accuracy: 0.4899\n",
      "Epoch 20/25\n",
      "50000/50000 [==============================] - 18s 362us/step - loss: 1.1285 - accuracy: 0.6109 - val_loss: 1.4621 - val_accuracy: 0.4922\n",
      "Epoch 21/25\n",
      "50000/50000 [==============================] - 17s 341us/step - loss: 1.1111 - accuracy: 0.6149 - val_loss: 1.4735 - val_accuracy: 0.4834\n",
      "Epoch 22/25\n",
      "50000/50000 [==============================] - 18s 355us/step - loss: 1.0949 - accuracy: 0.6212 - val_loss: 1.4615 - val_accuracy: 0.4933\n",
      "Epoch 23/25\n",
      "50000/50000 [==============================] - 17s 340us/step - loss: 1.0772 - accuracy: 0.6302 - val_loss: 1.4546 - val_accuracy: 0.5020\n",
      "Epoch 24/25\n",
      "50000/50000 [==============================] - 18s 353us/step - loss: 1.0606 - accuracy: 0.6366 - val_loss: 1.4513 - val_accuracy: 0.4954\n",
      "Epoch 25/25\n",
      "50000/50000 [==============================] - 17s 343us/step - loss: 1.0446 - accuracy: 0.6430 - val_loss: 1.4627 - val_accuracy: 0.4951\n"
     ]
    }
   ],
   "source": [
    "model = build_mlp(input_shape=x_train.shape[1:])\n",
    "model.summary()\n",
    "optimizer = keras.optimizers.SGD(lr=LEARNING_RATE, nesterov=True, momentum=MOMENTUM)\n",
    "model.compile(loss=\"categorical_crossentropy\", metrics=[\"accuracy\"], optimizer=optimizer)\n",
    "\n",
    "\"\"\"Code Here\n",
    "將 callbacks 放入模型訓練流程中\n",
    "\"\"\"\n",
    "model.fit(x_train, y_train, \n",
    "          epochs=EPOCHS, \n",
    "          batch_size=BATCH_SIZE, \n",
    "          validation_data=(x_test, y_test), \n",
    "          shuffle=True,\n",
    "          callbacks=[rec_tptn])\n",
    "\n",
    "# Collect results\n",
    "train_loss = model.history.history[\"loss\"]\n",
    "valid_loss = model.history.history[\"val_loss\"]\n",
    "train_acc = model.history.history[\"accuracy\"]\n",
    "valid_acc = model.history.history[\"val_accuracy\"]\n",
    "\n",
    "\"\"\"Code Here\n",
    "將 tp/tn 從訓練完的模型中取出\n",
    "\"\"\"\n",
    "valid_tp = model.history.history[\"val_tp\"]\n",
    "valid_tn = model.history.history[\"val_tn\"]"
   ]
  },
  {
   "cell_type": "code",
   "execution_count": 9,
   "metadata": {},
   "outputs": [
    {
     "data": {
      "image/png": "[encoded data removed]",
      "text/plain": [
       "<Figure size 432x288 with 1 Axes>"
      ]
     },
     "metadata": {
      "needs_background": "light"
     },
     "output_type": "display_data"
    },
    {
     "data": {
      "image/png": "[encoded data removed]",
      "text/plain": [
       "<Figure size 432x288 with 1 Axes>"
      ]
     },
     "metadata": {
      "needs_background": "light"
     },
     "output_type": "display_data"
    },
    {
     "data": {
      "image/png": "[encoded data removed]",
      "text/plain": [
       "<Figure size 432x288 with 1 Axes>"
      ]
     },
     "metadata": {
      "needs_background": "light"
     },
     "output_type": "display_data"
    }
   ],
   "source": [
    "import matplotlib.pyplot as plt\n",
    "%matplotlib inline\n",
    "\n",
    "plt.plot(range(len(train_loss)), train_loss, label=\"train loss\")\n",
    "plt.plot(range(len(valid_loss)), valid_loss, label=\"valid loss\")\n",
    "plt.legend()\n",
    "plt.title(\"Loss\")\n",
    "plt.show()\n",
    "\n",
    "plt.plot(range(len(train_acc)), train_acc, label=\"train accuracy\")\n",
    "plt.plot(range(len(valid_acc)), valid_acc, label=\"valid accuracy\")\n",
    "plt.legend()\n",
    "plt.title(\"Accuracy\")\n",
    "plt.show()\n",
    "\n",
    "plt.plot(range(len(valid_tp)), valid_tp, label=\"valid tp\", color=\"navy\")\n",
    "plt.plot(range(len(valid_tn)), valid_tn, label=\"valid tn\", color=\"red\")\n",
    "plt.legend()\n",
    "plt.title(\"True positives and True Negatives\")\n",
    "plt.show()"
   ]
  },
  {
   "cell_type": "code",
   "execution_count": null,
   "metadata": {},
   "outputs": [],
   "source": []
  }
 ],
 "metadata": {
  "kernelspec": {
   "display_name": "Python 3",
   "language": "python",
   "name": "python3"
  },
  "language_info": {
   "codemirror_mode": {
    "name": "ipython",
    "version": 3
   },
   "file_extension": ".py",
   "mimetype": "text/x-python",
   "name": "python",
   "nbconvert_exporter": "python",
   "pygments_lexer": "ipython3",
   "version": "3.7.3"
  }
 },
 "nbformat": 4,
 "nbformat_minor": 2
}
